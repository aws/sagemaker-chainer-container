{
 "cells": [
  {
   "cell_type": "markdown",
   "metadata": {},
   "source": [
    "## Training with Chainer\n",
    "\n",
    "[VGG](https://arxiv.org/pdf/1409.1556v6.pdf) is an architecture for deep convolution networks. In this example, we train a convolutional network to perform image classification using the CIFAR-10 dataset. CIFAR-10 consists of 60000 32x32 colour images in 10 classes, with 6000 images per class. There are 50000 training images and 10000 test images. We'll train a model on SageMaker, deploy it to Amazon SageMaker, and then classify images using the deployed model.\n",
    "\n",
    "The Chainer script runs inside of a Docker container running on SageMaker. For more on the Chainer container, please visit the sagemaker-chainer-containers repository and the sagemaker-python-sdk repository:\n",
    "\n",
    "* https://github.com/aws/sagemaker-chainer-containers\n",
    "* https://github.com/aws/sagemaker-python-sdk"
   ]
  },
  {
   "cell_type": "code",
   "execution_count": 1,
   "metadata": {},
   "outputs": [],
   "source": [
    "# Setup\n",
    "from sagemaker import get_execution_role\n",
    "import sagemaker\n",
    "\n",
    "sagemaker_session = sagemaker.Session()\n",
    "\n",
    "# This role retrieves the SageMaker-compatible role used by this Notebook Instance.\n",
    "role = get_execution_role()"
   ]
  },
  {
   "cell_type": "markdown",
   "metadata": {},
   "source": [
    "## Downloading training and test data\n",
    "\n",
    "We use helper functions given by `chainer` to download and preprocess the CIFAR10 data. "
   ]
  },
  {
   "cell_type": "code",
   "execution_count": 2,
   "metadata": {},
   "outputs": [
    {
     "name": "stderr",
     "output_type": "stream",
     "text": [
      "/home/ec2-user/anaconda3/envs/chainer_p36/lib/python3.6/site-packages/h5py/__init__.py:36: FutureWarning: Conversion of the second argument of issubdtype from `float` to `np.floating` is deprecated. In future, it will be treated as `np.float64 == np.dtype(float).type`.\n",
      "  from ._conv import register_converters as _register_converters\n"
     ]
    }
   ],
   "source": [
    "import chainer\n",
    "\n",
    "from chainer.datasets import get_cifar10\n",
    "\n",
    "train, test = get_cifar10()"
   ]
  },
  {
   "cell_type": "markdown",
   "metadata": {},
   "source": [
    "## Uploading the data\n",
    "\n",
    "We save the preprocessed data to the local filesystem, and then use the `sagemaker.Session.upload_data` function to upload our datasets to an S3 location. The return value `inputs` identifies the S3 location, which we will use when we start the Training Job."
   ]
  },
  {
   "cell_type": "code",
   "execution_count": 3,
   "metadata": {},
   "outputs": [
    {
     "name": "stdout",
     "output_type": "stream",
     "text": [
      "s3://sagemaker-us-west-2-142577830533/notebook/chainer_cifar/train\n"
     ]
    }
   ],
   "source": [
    "import os\n",
    "import shutil\n",
    "\n",
    "import numpy as np\n",
    "\n",
    "train_data = [element[0] for element in train]\n",
    "train_labels = [element[1] for element in train]\n",
    "\n",
    "test_data = [element[0] for element in test]\n",
    "test_labels = [element[1] for element in test]\n",
    "\n",
    "\n",
    "try:\n",
    "    os.makedirs('/tmp/data/train_cifar')\n",
    "    os.makedirs('/tmp/data/test_cifar')\n",
    "    np.savez('/tmp/data/train_cifar/train.npz', data=train_data, labels=train_labels)\n",
    "    np.savez('/tmp/data/test_cifar/test.npz', data=test_data, labels=test_labels)\n",
    "    train_input = sagemaker_session.upload_data(path=os.path.join('/tmp', 'data', 'train_cifar'),\n",
    "                                                            key_prefix='notebook/chainer_cifar/train')\n",
    "    test_input = sagemaker_session.upload_data(path=os.path.join('/tmp', 'data', 'test_cifar'),\n",
    "                                                           key_prefix='notebook/chainer_cifar/test')\n",
    "finally:\n",
    "    shutil.rmtree('/tmp/data')\n",
    "print(train_input)"
   ]
  },
  {
   "cell_type": "markdown",
   "metadata": {},
   "source": [
    "## Writing the Chainer training script to run on Amazon SageMaker\n",
    "\n",
    "We need to provide a training script that can run on the SageMaker platform. The training scripts are essentially the same as one you would write for local training, except that you need to provide a function `train` that returns a trained `chainer.Chain`.\n",
    "\n",
    "Since we will use the same script to host the Chainer model, the script also needs a function `model_fn` that loads a Chainer Model. When SageMaker calls your `train` and `model_fn` functions, it will pass in arguments that describe the training environment.\n",
    "\n",
    "While the `train` and `model_fn` functions are required, the Chainer container provides default implementations for a few other functions. The function hooks recognized by the container are listed below, with required functions in bold:\n",
    "\n",
    "### Training\n",
    "\n",
    "* **`train`**: This function is passed arguments read from the Training Job's environment and returns a trained model. Files written to `model_dir` are compressed and uploaded to S3 at the end of training.\n",
    "  `train` can accept the following arguments by name:\n",
    "  * `hyperparameters (dict)`: The hyperparameters map passed from the SageMaker Python SDK.\n",
    "  * `num_gpus (int)`: The number of GPUs available to the host.\n",
    "  * `output_data_dir (str)`: The filesystem path to write output artifacts to. Output artifacts may include checkpoints, graphs, and other files to save, not including model artifacts. These artifacts are compressed and uploaded to S3.\n",
    "  * `channel_input_dirs (dict of str: str)`: A map of input channel names (like 'train' and 'test') to filesystem paths to data in those input channels. \n",
    "  * `model_dir (str)`: path to the directory to write model artifacts to.\n",
    "  \n",
    "  For more on the arguments to `train` and others, please visit https://github.com/aws/sagemaker-containers.\n",
    "  \n",
    "\n",
    "### Hosting and Inference\n",
    "\n",
    "* **`model_fn(model_dir)`**: This function is invoked to load model artifacts from those written into `model_dir` during training.\n",
    "* `input_fn(input_data, content_type)`: This function is invoked to deserialize prediction data when a prediction request is made. The return value is passed to predict_fn. `input_fn` accepts two arguments: `input_data`, which is the serialized input data in the body of the prediction request, and `content_type`, the MIME type of the data\n",
    "  \n",
    "  \n",
    "* `predict_fn(input_data, model)`: This function accepts the return value of `input_fn` (as `input_data`) and the return value of `model_fn`, `model`, and returns inferences obtained from the model\n",
    "  \n",
    "  \n",
    "* `output_fn(prediction, accept)`: This function is invoked to serialize the return value from `predict_fn`, passed in via `prediction`, back to the SageMaker client in response to prediction requests\n",
    "\n",
    "Check the script below, which uses `chainer` to train on any number of GPUs on a single machine, to see how this works. This script implements `train`, for training, and `model_fn`, and `predict_fn` for hosting, but relies on the default `input_fn` and `output_fn`.\n",
    "\n",
    "For more on implementing these functions, see the documentation at https://github.com/aws/sagemaker-python-sdk.\n",
    "\n",
    "For more on the functions provided by the Chainer container, see https://github.com/aws/sagemaker-chainer-containers"
   ]
  },
  {
   "cell_type": "code",
   "execution_count": 4,
   "metadata": {},
   "outputs": [
    {
     "name": "stdout",
     "output_type": "stream",
     "text": [
      "# Copyright 2018 Amazon.com, Inc. or its affiliates. All Rights Reserved.\r\n",
      "#\r\n",
      "# Licensed under the Apache License, Version 2.0 (the \"License\"). You\r\n",
      "# may not use this file except in compliance with the License. A copy of\r\n",
      "# the License is located at\r\n",
      "#\r\n",
      "#     http://aws.amazon.com/apache2.0/\r\n",
      "#\r\n",
      "# or in the \"license\" file accompanying this file. This file is\r\n",
      "# distributed on an \"AS IS\" BASIS, WITHOUT WARRANTIES OR CONDITIONS OF\r\n",
      "# ANY KIND, either express or implied. See the License for the specific\r\n",
      "# language governing permissions and limitations under the License.\r\n",
      "\r\n",
      "from __future__ import print_function, absolute_import\r\n",
      "\r\n",
      "import os\r\n",
      "\r\n",
      "import numpy as np\r\n",
      "\r\n",
      "import chainer\r\n",
      "import chainer.functions as F\r\n",
      "import chainer.links as L\r\n",
      "from chainer import training\r\n",
      "from chainer import serializers\r\n",
      "from chainer.training import extensions\r\n",
      "\r\n",
      "import net\r\n",
      "\r\n",
      "\r\n",
      "def train(hyperparameters, num_gpus, output_data_dir, channel_input_dirs, model_dir):\r\n",
      "    \"\"\"\r\n",
      "    This function is called by the Chainer container during training when running on SageMaker with\r\n",
      "    values populated by the training environment.\r\n",
      "\r\n",
      "    Args:\r\n",
      "        hyperparameters (dict): map of hyperparameters given to the training job.\r\n",
      "        num_gpus (int): number of gpus available to the container, determined by instance type.\r\n",
      "        output_data_dir (str): path to the directory to write output artifacts to\r\n",
      "        channel_input_dirs (dict): Dictionary mapping input channel names to local filesystem paths\r\n",
      "\r\n",
      "    Returns:\r\n",
      "        a trained Chainer model\r\n",
      "    \r\n",
      "    For more on `train`, please visit the sagemaker-python-sdk repository:\r\n",
      "    https://github.com/aws/sagemaker-python-sdk\r\n",
      "    \r\n",
      "    For more on the Chainer container, please visit the sagemaker-chainer-containers repository:\r\n",
      "    https://github.com/aws/sagemaker-chainer-containers\r\n",
      "    \"\"\"\r\n",
      "\r\n",
      "    train_data = np.load(os.path.join(channel_input_dirs['train'], 'train.npz'))['data']\r\n",
      "    train_labels = np.load(os.path.join(channel_input_dirs['train'], 'train.npz'))['labels']\r\n",
      "\r\n",
      "    test_data = np.load(os.path.join(channel_input_dirs['test'], 'test.npz'))['data']\r\n",
      "    test_labels = np.load(os.path.join(channel_input_dirs['test'], 'test.npz'))['labels']\r\n",
      "\r\n",
      "    train = chainer.datasets.TupleDataset(train_data, train_labels)\r\n",
      "    test = chainer.datasets.TupleDataset(test_data, test_labels)\r\n",
      "\r\n",
      "    # retrieve the hyperparameters we set in notebook (with some defaults)\r\n",
      "    batch_size = hyperparameters.get('batch_size', 64)\r\n",
      "    epochs = hyperparameters.get('epochs', 300)\r\n",
      "    learning_rate = hyperparameters.get('learning_rate', 0.05)\r\n",
      "\r\n",
      "    print('# Minibatch-size: {}'.format(batch_size))\r\n",
      "    print('# epoch: {}'.format(epochs))\r\n",
      "\r\n",
      "    # Set up a neural network to train.\r\n",
      "    # Classifier reports softmax cross entropy loss and accuracy at every\r\n",
      "    # iteration, which will be used by the PrintReport extension below.\r\n",
      "    model = L.Classifier(net.VGG(10))\r\n",
      "\r\n",
      "    optimizer = chainer.optimizers.MomentumSGD(learning_rate)\r\n",
      "    optimizer.setup(model)\r\n",
      "    optimizer.add_hook(chainer.optimizer.WeightDecay(5e-4))\r\n",
      "\r\n",
      "    # Set up a trainer\r\n",
      "    device = 0 if num_gpus > 0 else -1  # -1 indicates CPU, 0 indicates first GPU device.\r\n",
      "    if num_gpus > 1:\r\n",
      "        devices = range(num_gpus)\r\n",
      "        train_iters = [chainer.iterators.MultiprocessIterator(i, batch_size, n_processes=4) \\\r\n",
      "                    for i in chainer.datasets.split_dataset_n_random(train, len(devices))]\r\n",
      "        test_iter = chainer.iterators.MultiprocessIterator(test, batch_size, repeat=False, n_processes=num_gpus)\r\n",
      "        updater = training.updaters.MultiprocessParallelUpdater(train_iters, optimizer, devices=range(num_gpus))\r\n",
      "    else:\r\n",
      "        train_iter = chainer.iterators.MultiprocessIterator(train, batch_size)\r\n",
      "        test_iter = chainer.iterators.MultiprocessIterator(test, batch_size, repeat=False)\r\n",
      "        updater = training.updater.StandardUpdater(train_iter, optimizer, device=device)\r\n",
      "\r\n",
      "    stop_trigger = (epochs, 'epoch')\r\n",
      "    trainer = training.Trainer(updater, stop_trigger, out=output_data_dir)\r\n",
      "    # Evaluate the model with the test dataset for each epoch\r\n",
      "    trainer.extend(extensions.Evaluator(test_iter, model, device=device))\r\n",
      "\r\n",
      "    # Reduce the learning rate by half every 25 epochs.\r\n",
      "    trainer.extend(extensions.ExponentialShift('lr', 0.5), trigger=(25, 'epoch'))\r\n",
      "\r\n",
      "    # Dump a computational graph from 'loss' variable at the first iteration\r\n",
      "    # The \"main\" refers to the target link of the \"main\" optimizer.\r\n",
      "    trainer.extend(extensions.dump_graph('main/loss'))\r\n",
      "\r\n",
      "    # Write a log of evaluation statistics for each epoch\r\n",
      "    trainer.extend(extensions.LogReport())\r\n",
      "\r\n",
      "    if extensions.PlotReport.available():\r\n",
      "        trainer.extend(\r\n",
      "            extensions.PlotReport(['main/loss', 'validation/main/loss'],\r\n",
      "                                  'epoch', file_name='loss.png'))\r\n",
      "        trainer.extend(\r\n",
      "            extensions.PlotReport(\r\n",
      "                ['main/accuracy', 'validation/main/accuracy'],\r\n",
      "                'epoch', file_name='accuracy.png'))\r\n",
      "\r\n",
      "    # Print selected entries of the log to stdout\r\n",
      "    # Here \"main\" refers to the target link of the \"main\" optimizer again, and\r\n",
      "    # \"validation\" refers to the default name of the Evaluator extension.\r\n",
      "    # Entries other than 'epoch' are reported by the Classifier link, called by\r\n",
      "    # either the updater or the evaluator.\r\n",
      "    trainer.extend(extensions.PrintReport(\r\n",
      "        ['epoch', 'main/loss', 'validation/main/loss',\r\n",
      "         'main/accuracy', 'validation/main/accuracy', 'elapsed_time']))\r\n",
      "\r\n",
      "    # Run the training\r\n",
      "    trainer.run()\r\n",
      "    \r\n",
      "    serializers.save_npz(os.path.join(model_dir, 'model.npz'), model)\r\n",
      "    return model\r\n",
      "\r\n",
      "\r\n",
      "def model_fn(model_dir):\r\n",
      "    \"\"\"\r\n",
      "    This function is called by the Chainer container during hosting when running on SageMaker with\r\n",
      "    values populated by the hosting environment.\r\n",
      "    \r\n",
      "    This function loads models written during training into `model_dir`.\r\n",
      "\r\n",
      "    Args:\r\n",
      "        model_dir (str): path to the directory containing the saved model artifacts\r\n",
      "\r\n",
      "    Returns:\r\n",
      "        a loaded Chainer model\r\n",
      "    \r\n",
      "    For more on `model_fn`, please visit the sagemaker-python-sdk repository:\r\n",
      "    https://github.com/aws/sagemaker-python-sdk\r\n",
      "    \r\n",
      "    For more on the Chainer container, please visit the sagemaker-chainer-containers repository:\r\n",
      "    https://github.com/aws/sagemaker-chainer-containers\r\n",
      "    \"\"\"\r\n",
      "    chainer.config.train = False\r\n",
      "    model = L.Classifier(net.VGG(10))\r\n",
      "    serializers.load_npz(os.path.join(model_dir, 'model.npz'), model)\r\n",
      "    return model.predictor\r\n"
     ]
    }
   ],
   "source": [
    "!cat 'code/chainer_cifar_vgg_single_machine.py'"
   ]
  },
  {
   "cell_type": "markdown",
   "metadata": {},
   "source": [
    "## Running the training script on SageMaker\n",
    "\n",
    "To train with a Chainer script, we construct a ```Chainer``` estimator using the [sagemaker-python-sdk](https://github.com/aws/sagemaker-python-sdk). We pass in an `entry_point`, the name of a script that contains a couple of functions with certain signatures (`train` and `model_fn`), and a `source_dir`, a directory containing all code to run inside the Chainer container. This script will be run on SageMaker in a container that invokes these functions to train and load Chainer models. \n",
    "\n",
    "The ```Chainer``` class allows us to run our training function as a training job on SageMaker infrastructure. We need to configure it with our training script, an IAM role, the number of training instances, and the training instance type. In this case we will run our training job on one `ml.p3.2xlarge` instance."
   ]
  },
  {
   "cell_type": "code",
   "execution_count": 5,
   "metadata": {},
   "outputs": [
    {
     "name": "stderr",
     "output_type": "stream",
     "text": [
      "INFO:sagemaker:Creating training-job with name: sagemaker-chainer-2018-05-18-22-56-25-482\n"
     ]
    },
    {
     "name": "stdout",
     "output_type": "stream",
     "text": [
      ".......................\n",
      "\u001b[31m2018-05-18 23:00:03,381 INFO - root - running container entrypoint\u001b[0m\n",
      "\u001b[31m2018-05-18 23:00:03,381 INFO - root - starting train task\u001b[0m\n",
      "\u001b[31m2018-05-18 23:00:03,393 INFO - container_support.app - started training: {'train_fn': <function train at 0x7fab61b74bf8>}\u001b[0m\n",
      "\u001b[31mDownloading s3://sagemaker-us-west-2-142577830533/sagemaker-chainer-2018-05-18-22-56-25-482/source/sourcedir.tar.gz to /tmp/script.tar.gz\u001b[0m\n",
      "\u001b[31m2018-05-18 23:00:03,493 INFO - botocore.vendored.requests.packages.urllib3.connectionpool - Starting new HTTP connection (1): 169.254.170.2\u001b[0m\n",
      "\u001b[31m2018-05-18 23:00:03,568 INFO - botocore.vendored.requests.packages.urllib3.connectionpool - Starting new HTTPS connection (1): sagemaker-us-west-2-142577830533.s3.amazonaws.com\u001b[0m\n",
      "\u001b[31m2018-05-18 23:00:03,614 INFO - botocore.vendored.requests.packages.urllib3.connectionpool - Starting new HTTPS connection (2): sagemaker-us-west-2-142577830533.s3.amazonaws.com\u001b[0m\n",
      "\u001b[31m2018-05-18 23:00:03,629 INFO - botocore.vendored.requests.packages.urllib3.connectionpool - Starting new HTTPS connection (1): sagemaker-us-west-2-142577830533.s3.us-west-2.amazonaws.com\u001b[0m\n",
      "\u001b[31m2018-05-18 23:00:03,687 INFO - botocore.vendored.requests.packages.urllib3.connectionpool - Starting new HTTPS connection (2): sagemaker-us-west-2-142577830533.s3.us-west-2.amazonaws.com\u001b[0m\n",
      "\u001b[31m2018-05-18 23:00:03,759 INFO - chainer_framework.training - Invoking user training script.\u001b[0m\n",
      "\u001b[31m# Minibatch-size: 64\u001b[0m\n",
      "\u001b[31m# epoch: 50\u001b[0m\n",
      "\u001b[31m2018-05-18 23:00:19,594 INFO - matplotlib.font_manager - font search path ['/usr/local/lib/python3.5/dist-packages/matplotlib/mpl-data/fonts/ttf', '/usr/local/lib/python3.5/dist-packages/matplotlib/mpl-data/fonts/afm', '/usr/local/lib/python3.5/dist-packages/matplotlib/mpl-data/fonts/pdfcorefonts']\u001b[0m\n",
      "\u001b[31m2018-05-18 23:00:19,967 INFO - matplotlib.font_manager - generated new fontManager\u001b[0m\n",
      "\u001b[31mepoch       main/loss   validation/main/loss  main/accuracy  validation/main/accuracy  elapsed_time\u001b[0m\n",
      "\u001b[31m#033[J1           2.46076     1.91047               0.152214       0.226115                  44.5018       \u001b[0m\n",
      "\u001b[31m#033[J2           1.86331     1.95026               0.277049       0.303045                  73.9864       \u001b[0m\n",
      "\u001b[31m#033[J3           1.60249     1.76451               0.391925       0.369825                  103.328       \u001b[0m\n",
      "\u001b[31m#033[J4           1.34356     1.54147               0.514125       0.448348                  132.798       \u001b[0m\n",
      "\u001b[31m#033[J5           1.14649     1.35576               0.602681       0.546875                  162.232       \u001b[0m\n",
      "\u001b[31m#033[J6           1.00943     0.909755              0.65765        0.686604                  191.681       \u001b[0m\n",
      "\u001b[31m#033[J7           0.924294    0.993142              0.68766        0.669685                  221.085       \u001b[0m\n",
      "\u001b[31m#033[J8           0.867175    0.841939              0.710767       0.718551                  250.452       \u001b[0m\n",
      "\u001b[31m#033[J9           0.821704    0.836528              0.730679       0.726811                  279.851       \u001b[0m\n",
      "\u001b[31m#033[J10          0.790527    0.897667              0.742558       0.70621                   309.234       \u001b[0m\n",
      "\u001b[31m#033[J11          0.764457    0.799254              0.754021       0.739252                  338.682       \u001b[0m\n",
      "\u001b[31m#033[J12          0.7503      0.788643              0.759403       0.742436                  368.155       \u001b[0m\n",
      "\u001b[31m#033[J13          0.729242    0.851985              0.766464       0.71885                   397.574       \u001b[0m\n",
      "\u001b[31m#033[J14          0.713342    0.670117              0.771487       0.778065                  427.073       \u001b[0m\n",
      "\u001b[31m#033[J15          0.691852    0.877655              0.778889       0.721537                  457.229       \u001b[0m\n",
      "\u001b[31m#033[J16          0.68022     0.723502              0.783231       0.763635                  487.583       \u001b[0m\n",
      "\u001b[31m#033[J17          0.667911    0.654932              0.787704       0.784833                  517.905       \u001b[0m\n",
      "\u001b[31m#033[J18          0.651706    0.716829              0.793894       0.770303                  548.075       \u001b[0m\n",
      "\u001b[31m#033[J19          0.645288    0.782208              0.794054       0.75199                   578.213       \u001b[0m\n",
      "\u001b[31m#033[J20          0.633071    0.713784              0.796815       0.767217                  608.351       \u001b[0m\n",
      "\u001b[31m#033[J21          0.634266    0.885837              0.798753       0.723527                  638.812       \u001b[0m\n",
      "\u001b[31m#033[J22          0.6282      0.757909              0.799296       0.746318                  669.267       \u001b[0m\n",
      "\u001b[31m#033[J23          0.612867    0.932199              0.806118       0.698447                  699.002       \u001b[0m\n",
      "\u001b[31m#033[J24          0.610089    0.665145              0.804798       0.77508                   728.768       \u001b[0m\n",
      "\u001b[31m#033[J25          0.604938    0.666041              0.809163       0.782146                  759.041       \u001b[0m\n",
      "\u001b[31m#033[J26          0.466047    0.539295              0.854433       0.822353                  788.528       \u001b[0m\n",
      "\u001b[31m#033[J27          0.435816    0.42139               0.861176       0.862858                  817.984       \u001b[0m\n",
      "\u001b[31m#033[J28          0.434531    0.492909              0.861776       0.838873                  847.659       \u001b[0m\n",
      "\u001b[31m#033[J29          0.433011    0.459572              0.862392       0.850916                  877.03        \u001b[0m\n",
      "\u001b[31m#033[J30          0.431053    0.611047              0.861636       0.80215                   906.63        \u001b[0m\n",
      "\u001b[31m#033[J31          0.433381    0.596287              0.861776       0.806728                  936.088       \u001b[0m\n",
      "\u001b[31m#033[J32          0.430357    0.484284              0.862756       0.84365                   965.502       \u001b[0m\n",
      "\u001b[31m#033[J33          0.426035    0.674448              0.862272       0.794188                  995.042       \u001b[0m\n",
      "\u001b[31m#033[J34          0.418239    0.525189              0.866137       0.834893                  1024.53       \u001b[0m\n",
      "\u001b[31m#033[J35          0.421711    0.437229              0.866397       0.859773                  1053.96       \u001b[0m\n",
      "\u001b[31m#033[J36          0.409796    0.459283              0.869198       0.853205                  1083.4        \u001b[0m\n",
      "\u001b[31m#033[J37          0.410604    0.658691              0.870384       0.791899                  1112.83       \u001b[0m\n",
      "\u001b[31m#033[J38          0.413772    0.564478              0.868658       0.82713                   1142.29       \u001b[0m\n",
      "\u001b[31m#033[J39          0.408367    0.487131              0.870919       0.843153                  1171.65       \u001b[0m\n",
      "\u001b[31m#033[J40          0.399632    0.458526              0.873339       0.855792                  1201.04       \u001b[0m\n",
      "\u001b[31m#033[J41          0.399276    0.475021              0.873142       0.848726                  1230.56       \u001b[0m\n",
      "\u001b[31m#033[J42          0.400831    0.491002              0.872019       0.843053                  1260          \u001b[0m\n",
      "\u001b[31m#033[J43          0.400262    0.48659               0.872759       0.84574                   1289.36       \u001b[0m\n",
      "\u001b[31m#033[J44          0.389       0.474331              0.877561       0.84793                   1318.89       \u001b[0m\n",
      "\u001b[31m#033[J45          0.395503    0.560274              0.875559       0.817675                  1348.44       \u001b[0m\n",
      "\u001b[31m#033[J46          0.388197    0.516932              0.876          0.836584                  1377.95       \u001b[0m\n",
      "\u001b[31m#033[J47          0.38463     0.48733               0.876961       0.84375                   1407.55       \u001b[0m\n",
      "\u001b[31m#033[J48          0.384326    0.494507              0.878021       0.838376                  1436.96       \u001b[0m\n",
      "\u001b[31m#033[J49          0.385152    0.458576              0.878696       0.851214                  1466.33       \u001b[0m\n",
      "\u001b[31m#033[J50          0.37674     0.492253              0.881042       0.844347                  1495.72       \u001b[0m\n",
      "===== Job Complete =====\n",
      "Billable seconds: 1642\n"
     ]
    }
   ],
   "source": [
    "from sagemaker.chainer.estimator import Chainer\n",
    "\n",
    "chainer_estimator = Chainer(entry_point='chainer_cifar_vgg_single_machine.py', source_dir=\"code\", role=role,\n",
    "                            sagemaker_session=sagemaker_session,\n",
    "                            train_instance_count=1, train_instance_type='ml.p3.2xlarge',\n",
    "                            hyperparameters={'epochs': 50, 'batch_size': 64})\n",
    "\n",
    "chainer_estimator.fit({'train': train_input, 'test': test_input})"
   ]
  },
  {
   "cell_type": "markdown",
   "metadata": {},
   "source": [
    "Our Chainer script writes various artifacts, such as plots, to a directory `output_data_dir`, the contents of which which SageMaker uploads to S3. Now we download and extract these artifacts."
   ]
  },
  {
   "cell_type": "code",
   "execution_count": 6,
   "metadata": {},
   "outputs": [],
   "source": [
    "from s3_util import retrieve_output_from_s3\n",
    "\n",
    "chainer_training_job = chainer_estimator.latest_training_job.name\n",
    "\n",
    "desc = sagemaker_session.sagemaker_client.describe_training_job(TrainingJobName=chainer_training_job)\n",
    "output_data = desc['ModelArtifacts']['S3ModelArtifacts'].replace('model.tar.gz', 'output.tar.gz')\n",
    "\n",
    "retrieve_output_from_s3(output_data, 'output/single_machine_cifar')"
   ]
  },
  {
   "cell_type": "markdown",
   "metadata": {},
   "source": [
    "These plots show the accuracy and loss over epochs:"
   ]
  },
  {
   "cell_type": "code",
   "execution_count": 7,
   "metadata": {},
   "outputs": [
    {
     "data": {
      "image/png": "[encoded data removed]",
      "text/plain": [
       "<IPython.core.display.Image object>"
      ]
     },
     "metadata": {
      "image/png": {
       "height": 800,
       "width": 800
      }
     },
     "output_type": "display_data"
    },
    {
     "data": {
      "image/png": "[encoded data removed]",
      "text/plain": [
       "<IPython.core.display.Image object>"
      ]
     },
     "metadata": {
      "image/png": {
       "height": 800,
       "width": 800
      }
     },
     "output_type": "display_data"
    }
   ],
   "source": [
    "from IPython.display import Image\n",
    "from IPython.display import display\n",
    "\n",
    "accuracy_graph = Image(filename = \"output/single_machine_cifar/accuracy.png\", width=800, height=800)\n",
    "loss_graph = Image(filename = \"output/single_machine_cifar/loss.png\", width=800, height=800)\n",
    "\n",
    "display(accuracy_graph, loss_graph)"
   ]
  },
  {
   "cell_type": "markdown",
   "metadata": {},
   "source": [
    "## Deploying the Trained Model\n",
    "\n",
    "After training, we use the Chainer estimator object to create and deploy a hosted prediction endpoint. We can use a CPU-based instance for inference (in this case an `ml.m4.xlarge`), even though we trained on GPU instances.\n",
    "\n",
    "The predictor object returned by `deploy` lets us call the new endpoint and perform inference on our sample images. "
   ]
  },
  {
   "cell_type": "code",
   "execution_count": 8,
   "metadata": {},
   "outputs": [
    {
     "name": "stderr",
     "output_type": "stream",
     "text": [
      "INFO:sagemaker:Creating model with name: sagemaker-chainer-2018-05-18-22-56-25-482\n",
      "INFO:sagemaker:Creating endpoint with name sagemaker-chainer-2018-05-18-22-56-25-482\n"
     ]
    },
    {
     "name": "stdout",
     "output_type": "stream",
     "text": [
      "---------------------------------------------------------------------------!"
     ]
    }
   ],
   "source": [
    "predictor = chainer_estimator.deploy(initial_instance_count=1, instance_type='ml.m4.xlarge')"
   ]
  },
  {
   "cell_type": "markdown",
   "metadata": {},
   "source": [
    "### CIFAR10 sample images\n",
    "\n",
    "We'll use these CIFAR10 sample images to test the service:\n",
    "\n",
    "<img style=\"display: inline; height: 32px; margin: 0.25em\" src=\"images/airplane1.png\" />\n",
    "<img style=\"display: inline; height: 32px; margin: 0.25em\" src=\"images/automobile1.png\" />\n",
    "<img style=\"display: inline; height: 32px; margin: 0.25em\" src=\"images/bird1.png\" />\n",
    "<img style=\"display: inline; height: 32px; margin: 0.25em\" src=\"images/cat1.png\" />\n",
    "<img style=\"display: inline; height: 32px; margin: 0.25em\" src=\"images/deer1.png\" />\n",
    "<img style=\"display: inline; height: 32px; margin: 0.25em\" src=\"images/dog1.png\" />\n",
    "<img style=\"display: inline; height: 32px; margin: 0.25em\" src=\"images/frog1.png\" />\n",
    "<img style=\"display: inline; height: 32px; margin: 0.25em\" src=\"images/horse1.png\" />\n",
    "<img style=\"display: inline; height: 32px; margin: 0.25em\" src=\"images/ship1.png\" />\n",
    "<img style=\"display: inline; height: 32px; margin: 0.25em\" src=\"images/truck1.png\" />\n",
    "\n"
   ]
  },
  {
   "cell_type": "markdown",
   "metadata": {},
   "source": [
    "## Predicting using SageMaker Endpoint\n",
    "\n",
    "We batch the images together into a single NumPy array to obtain multiple inferences with a single prediction request."
   ]
  },
  {
   "cell_type": "code",
   "execution_count": 9,
   "metadata": {},
   "outputs": [],
   "source": [
    "from skimage import io\n",
    "import numpy as np\n",
    "\n",
    "def read_image(filename):\n",
    "    img = io.imread(filename)\n",
    "    img = np.array(img).transpose(2, 0, 1)\n",
    "    img = np.expand_dims(img, axis=0)\n",
    "    img = img.astype(np.float32)\n",
    "    img *= 1. / 255.\n",
    "    img = img.reshape(3, 32, 32)\n",
    "    return img\n",
    "\n",
    "\n",
    "def read_images(filenames):\n",
    "    return np.array([read_image(f) for f in filenames])\n",
    "\n",
    "filenames = ['images/airplane1.png',\n",
    "             'images/automobile1.png',\n",
    "             'images/bird1.png',\n",
    "             'images/cat1.png',\n",
    "             'images/deer1.png',\n",
    "             'images/dog1.png',\n",
    "             'images/frog1.png',\n",
    "             'images/horse1.png',\n",
    "             'images/ship1.png',\n",
    "             'images/truck1.png']\n",
    "\n",
    "image_data = read_images(filenames)"
   ]
  },
  {
   "cell_type": "markdown",
   "metadata": {},
   "source": [
    "The predictor runs inference on our input data and returns a list of predictions whose argmax gives the predicted label of the input data. "
   ]
  },
  {
   "cell_type": "code",
   "execution_count": 10,
   "metadata": {},
   "outputs": [
    {
     "name": "stdout",
     "output_type": "stream",
     "text": [
      "image 0: prediction: 0\n",
      "image 1: prediction: 1\n",
      "image 2: prediction: 2\n",
      "image 3: prediction: 3\n",
      "image 4: prediction: 4\n",
      "image 5: prediction: 5\n",
      "image 6: prediction: 6\n",
      "image 7: prediction: 7\n",
      "image 8: prediction: 8\n",
      "image 9: prediction: 9\n"
     ]
    }
   ],
   "source": [
    "response = predictor.predict(image_data)\n",
    "\n",
    "for i, prediction in enumerate(response):\n",
    "    print('image {}: prediction: {}'.format(i, prediction.argmax(axis=0)))"
   ]
  },
  {
   "cell_type": "markdown",
   "metadata": {},
   "source": [
    "## Cleanup\n",
    "\n",
    "After you have finished with this example, remember to delete the prediction endpoint to release the instance(s) associated with it."
   ]
  },
  {
   "cell_type": "code",
   "execution_count": 11,
   "metadata": {},
   "outputs": [
    {
     "name": "stderr",
     "output_type": "stream",
     "text": [
      "INFO:sagemaker:Deleting endpoint with name: sagemaker-chainer-2018-05-18-22-56-25-482\n"
     ]
    }
   ],
   "source": [
    "chainer_estimator.delete_endpoint()"
   ]
  }
 ],
 "metadata": {
  "kernelspec": {
   "display_name": "conda_chainer_p36",
   "language": "python",
   "name": "conda_chainer_p36"
  },
  "language_info": {
   "codemirror_mode": {
    "name": "ipython",
    "version": 3
   },
   "file_extension": ".py",
   "mimetype": "text/x-python",
   "name": "python",
   "nbconvert_exporter": "python",
   "pygments_lexer": "ipython3",
   "version": "3.6.4"
  },
  "notice": "Copyright 2017 Amazon.com, Inc. or its affiliates. All Rights Reserved.  Licensed under the Apache License, Version 2.0 (the \"License\"). You may not use this file except in compliance with the License. A copy of the License is located at http://aws.amazon.com/apache2.0/ or in the \"license\" file accompanying this file. This file is distributed on an \"AS IS\" BASIS, WITHOUT WARRANTIES OR CONDITIONS OF ANY KIND, either express or implied. See the License for the specific language governing permissions and limitations under the License."
 },
 "nbformat": 4,
 "nbformat_minor": 2
}
