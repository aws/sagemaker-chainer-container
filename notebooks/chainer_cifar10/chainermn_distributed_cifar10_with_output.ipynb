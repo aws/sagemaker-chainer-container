{
 "cells": [
  {
   "cell_type": "markdown",
   "metadata": {},
   "source": [
    "## Distributed Training with Chainer and ChainerMN\n",
    "\n",
    "Chainer can train in two modes: single-machine, and distributed. Unlike the single-machine notebook example that trains an image classification model on the CIFAR-10 dataset, we will write a Chainer script that uses `chainermn` to distribute training to multiple instances.\n",
    "\n",
    "[VGG](https://arxiv.org/pdf/1409.1556v6.pdf) is an architecture for deep convolution networks. In this example, we train a convolutional network to perform image classification using the CIFAR-10 dataset on multiple instances. CIFAR-10 consists of 60000 32x32 colour images in 10 classes, with 6000 images per class. There are 50000 training images and 10000 test images. We'll train a model on SageMaker, deploy it to Amazon SageMaker, and then classify images using the deployed model.\n",
    "\n",
    "The Chainer script runs inside of a Docker container running on SageMaker. For more on the Chainer container, please visit the sagemaker-chainer-containers repository and the sagemaker-python-sdk repository:\n",
    "\n",
    "* https://github.com/aws/sagemaker-chainer-containers\n",
    "* https://github.com/aws/sagemaker-python-sdk"
   ]
  },
  {
   "cell_type": "code",
   "execution_count": 1,
   "metadata": {},
   "outputs": [
    {
     "name": "stdout",
     "output_type": "stream",
     "text": [
      "Help on method upload_data in module sagemaker.session:\n",
      "\n",
      "upload_data(path, bucket=None, key_prefix='data') method of sagemaker.session.Session instance\n",
      "    Upload local file or directory to S3.\n",
      "    \n",
      "    If a single file is specified for upload, the resulting S3 object key is ``{key_prefix}/{filename}``\n",
      "    (filename does not include the local path, if any specified).\n",
      "    \n",
      "    If a directory is specified for upload, the API uploads all content, recursively,\n",
      "    preserving relative structure of subdirectories. The resulting object key names are:\n",
      "    ``{key_prefix}/{relative_subdirectory_path}/filename``.\n",
      "    \n",
      "    Args:\n",
      "        path (str): Path (absolute or relative) of local file or directory to upload.\n",
      "        bucket (str): Name of the S3 Bucket to upload to (default: None). If not specified, the\n",
      "            default bucket of the ``Session`` is used. If the bucket does not exist, the ``Session``\n",
      "            creates the bucket.\n",
      "        key_prefix (str): Optional S3 object key name prefix (default: 'data'). S3 uses the prefix to\n",
      "            create a directory structure for the bucket content that it display in the S3 console.\n",
      "    \n",
      "    Returns:\n",
      "        str: The S3 URI of the uploaded file(s). If a file is specified in the path argument, the URI format is:\n",
      "            ``s3://{bucket name}/{key_prefix}/{original_file_name}``.\n",
      "            If a directory is specified in the path argument, the URI format is ``s3://{bucket name}/{key_prefix}``.\n",
      "\n"
     ]
    }
   ],
   "source": [
    "# Setup\n",
    "from sagemaker import get_execution_role\n",
    "import sagemaker\n",
    "\n",
    "sagemaker_session = sagemaker.Session()\n",
    "\n",
    "# This role retrieves the SageMaker-compatible role used by this Notebook Instance.\n",
    "role = get_execution_role()\n",
    "help(sagemaker_session.upload_data)"
   ]
  },
  {
   "cell_type": "markdown",
   "metadata": {},
   "source": [
    "## Downloading training and test data\n",
    "\n",
    "We use helper functions given by `chainer` to download and preprocess the CIFAR10 data. "
   ]
  },
  {
   "cell_type": "code",
   "execution_count": 2,
   "metadata": {},
   "outputs": [
    {
     "name": "stderr",
     "output_type": "stream",
     "text": [
      "/home/ec2-user/anaconda3/envs/chainer_p36/lib/python3.6/site-packages/h5py/__init__.py:36: FutureWarning: Conversion of the second argument of issubdtype from `float` to `np.floating` is deprecated. In future, it will be treated as `np.float64 == np.dtype(float).type`.\n",
      "  from ._conv import register_converters as _register_converters\n"
     ]
    }
   ],
   "source": [
    "import chainer\n",
    "\n",
    "from chainer.datasets import get_cifar10\n",
    "\n",
    "train, test = get_cifar10()"
   ]
  },
  {
   "cell_type": "markdown",
   "metadata": {},
   "source": [
    "## Uploading the data\n",
    "\n",
    "We save the preprocessed data to the local filesystem, and then use the `sagemaker.Session.upload_data` function to upload our datasets to an S3 location. The return value `inputs` identifies the S3 location, which we will use when we start the Training Job."
   ]
  },
  {
   "cell_type": "code",
   "execution_count": 3,
   "metadata": {},
   "outputs": [],
   "source": [
    "import os\n",
    "import shutil\n",
    "\n",
    "import numpy as np\n",
    "\n",
    "train_data = [element[0] for element in train]\n",
    "train_labels = [element[1] for element in train]\n",
    "\n",
    "test_data = [element[0] for element in test]\n",
    "test_labels = [element[1] for element in test]\n",
    "\n",
    "\n",
    "try:\n",
    "    os.makedirs('/tmp/data/train_cifar')\n",
    "    os.makedirs('/tmp/data/test_cifar')\n",
    "    np.savez('/tmp/data/train_cifar/train.npz', data=train_data, labels=train_labels)\n",
    "    np.savez('/tmp/data/test_cifar/test.npz', data=test_data, labels=test_labels)\n",
    "    train_input = sagemaker_session.upload_data(path=os.path.join('/tmp', 'data', 'train_cifar'),\n",
    "                                                            key_prefix='notebook/chainer_cifar/train')\n",
    "    test_input = sagemaker_session.upload_data(path=os.path.join('/tmp', 'data', 'test_cifar'),\n",
    "                                                           key_prefix='notebook/chainer_cifar/test')\n",
    "finally:\n",
    "    shutil.rmtree('/tmp/data')"
   ]
  },
  {
   "cell_type": "markdown",
   "metadata": {},
   "source": [
    "## Writing the Chainer training script to run on Amazon SageMaker\n",
    "\n",
    "We need to provide a training script that can run on the SageMaker platform. The training scripts are essentially the same as one you would write for local training, except that you need to provide a function `train` that returns a trained `chainer.Chain`.\n",
    "\n",
    "Since we will use the same script to host the Chainer model, the script also needs a function `model_fn` that loads a Chainer Model. When SageMaker calls your `train` and `model_fn` functions, it will pass in arguments that describe the training environment.\n",
    "\n",
    "While the `train` and `model_fn` functions are required, the Chainer container provides default implementations for a few other functions. The function hooks recognized by the container are listed below, with required functions in bold:\n",
    "\n",
    "### Training\n",
    "\n",
    "* **`train`**: This function is passed arguments read from the Training Job's environment and returns a trained model. Files written to `model_dir` are compressed and uploaded to S3 at the end of training.\n",
    "  `train` can accept the following arguments by name:\n",
    "  * `hyperparameters (dict)`: The hyperparameters map passed from the SageMaker Python SDK.\n",
    "  * `num_gpus (int)`: The number of GPUs available to the host.\n",
    "  * `output_data_dir (str)`: The filesystem path to write output artifacts to. Output artifacts may include checkpoints, graphs, and other files to save, not including model artifacts. These artifacts are compressed and uploaded to S3.\n",
    "  * `channel_input_dirs (dict of str: str)`: A map of input channel names (like 'train' and 'test') to filesystem paths to data in those input channels. \n",
    "  * `model_dir (str)`: path to the directory to write model artifacts to.\n",
    "  \n",
    "  For more on the arguments to `train` and others, please visit https://github.com/aws/sagemaker-containers.\n",
    "  \n",
    "\n",
    "### Hosting and Inference\n",
    "\n",
    "* **`model_fn(model_dir)`**: This function is invoked to load model artifacts from those written into `model_dir` during training.\n",
    "* `input_fn(input_data, content_type)`: This function is invoked to deserialize prediction data when a prediction request is made. The return value is passed to predict_fn. `input_fn` accepts two arguments: `input_data`, which is the serialized input data in the body of the prediction request, and `content_type`, the MIME type of the data\n",
    "  \n",
    "  \n",
    "* `predict_fn(input_data, model)`: This function accepts the return value of `input_fn` (as `input_data`) and the return value of `model_fn`, `model`, and returns inferences obtained from the model\n",
    "  \n",
    "  \n",
    "* `output_fn(prediction, accept)`: This function is invoked to serialize the return value from `predict_fn`, passed in via `prediction`, back to the SageMaker client in response to prediction requests\n",
    "\n",
    "Check the script below, which uses `chainer` to train on any number of GPUs on a single machine, to see how this works. This script implements `train`, for training, and `model_fn`, and `predict_fn` for hosting, but relies on the default `input_fn` and `output_fn`.\n",
    "\n",
    "The script below uses a chainermn Communicator to distribute training to multiple nodes. The Communicator depends on MPI (Message Passing Interface), so the Chainer container running on SageMaker runs this script with mpirun if the Chainer Estimator specifies a train_instance_count of two or greater, or if use_mpi in the Chainer estimator is true.\n",
    "\n",
    "By default, one process is created per GPU (on GPU instances), or one per host (on CPU instances, which are not recommended for this notebook).\n",
    "\n",
    "For more on implementing these functions, see the documentation at https://github.com/aws/sagemaker-python-sdk.\n",
    "\n",
    "For more on the functions provided by the Chainer container, see https://github.com/aws/sagemaker-chainer-containers"
   ]
  },
  {
   "cell_type": "code",
   "execution_count": 4,
   "metadata": {},
   "outputs": [
    {
     "name": "stdout",
     "output_type": "stream",
     "text": [
      "# Copyright 2018 Amazon.com, Inc. or its affiliates. All Rights Reserved.\r\n",
      "#\r\n",
      "# Licensed under the Apache License, Version 2.0 (the \"License\"). You\r\n",
      "# may not use this file except in compliance with the License. A copy of\r\n",
      "# the License is located at\r\n",
      "#\r\n",
      "#     http://aws.amazon.com/apache2.0/\r\n",
      "#\r\n",
      "# or in the \"license\" file accompanying this file. This file is\r\n",
      "# distributed on an \"AS IS\" BASIS, WITHOUT WARRANTIES OR CONDITIONS OF\r\n",
      "# ANY KIND, either express or implied. See the License for the specific\r\n",
      "# language governing permissions and limitations under the License.\r\n",
      "\r\n",
      "from __future__ import print_function, absolute_import\r\n",
      "\r\n",
      "import os\r\n",
      "\r\n",
      "import numpy as np\r\n",
      "\r\n",
      "import chainer\r\n",
      "import chainer.functions as F\r\n",
      "import chainer.links as L\r\n",
      "import chainermn\r\n",
      "from chainer import initializers\r\n",
      "from chainer import serializers\r\n",
      "from chainer import training\r\n",
      "from chainer.training import extensions\r\n",
      "\r\n",
      "import net\r\n",
      "\r\n",
      "\r\n",
      "def train(hyperparameters, num_gpus, output_data_dir, channel_input_dirs, model_dir):\r\n",
      "    \"\"\"\r\n",
      "    This function is called by the Chainer container during training when running on SageMaker with\r\n",
      "    values populated by the training environment.\r\n",
      "    \r\n",
      "    When running in distributed mode, this function is called with `mpirun`, spawning (by default) one\r\n",
      "    process per GPU (when running with GPU instances), or one process per host (when running with\r\n",
      "    CPU instances). Ranks are initialized in the expected way -- comm.intra_rank refers to the rank of the\r\n",
      "    process on an instance, and comm.inter_rank refers to the rank of the instance.\r\n",
      "\r\n",
      "    Args:\r\n",
      "        hyperparameters (dict): map of hyperparameters given to the training job.\r\n",
      "        num_gpus (int): number of gpus available to the container, determined by instance type.\r\n",
      "        output_data_dir (str): path to the directory to write output artifacts to\r\n",
      "        channel_input_dirs (dict): Dictionary mapping input channel names to local filesystem paths\r\n",
      "\r\n",
      "    Returns:\r\n",
      "        a trained Chainer model\r\n",
      "    \r\n",
      "    For more on `train`, please visit the sagemaker-python-sdk repository:\r\n",
      "    https://github.com/aws/sagemaker-python-sdk\r\n",
      "    \r\n",
      "    For more on the Chainer container, please visit the sagemaker-chainer-containers repository:\r\n",
      "    https://github.com/aws/sagemaker-chainer-containers\r\n",
      "    \"\"\"\r\n",
      "\r\n",
      "    train_data = np.load(os.path.join(channel_input_dirs['train'], 'train.npz'))['data']\r\n",
      "    train_labels = np.load(os.path.join(channel_input_dirs['train'], 'train.npz'))['labels']\r\n",
      "\r\n",
      "    test_data = np.load(os.path.join(channel_input_dirs['test'], 'test.npz'))['data']\r\n",
      "    test_labels = np.load(os.path.join(channel_input_dirs['test'], 'test.npz'))['labels']\r\n",
      "\r\n",
      "    train = chainer.datasets.TupleDataset(train_data, train_labels)\r\n",
      "    test = chainer.datasets.TupleDataset(test_data, test_labels)\r\n",
      "\r\n",
      "    # retrieve the hyperparameters we set in notebook (with some defaults)\r\n",
      "    batch_size = hyperparameters.get('batch_size', 256)\r\n",
      "    epochs = hyperparameters.get('epochs', 50)\r\n",
      "    learning_rate = hyperparameters.get('learning_rate', 0.05)\r\n",
      "    communicator = hyperparameters.get('communicator', 'pure_nccl' if num_gpus > 0 else 'naive')\r\n",
      "\r\n",
      "    comm = chainermn.create_communicator(communicator)\r\n",
      "\r\n",
      "    # comm.inter_rank gives the rank of the node. This should only print on one node.\r\n",
      "    if comm.inter_rank == 0:\r\n",
      "        print('# Minibatch-size: {}'.format(batch_size))\r\n",
      "        print('# epoch: {}'.format(epochs))\r\n",
      "        print('# learning rate: {}'.format(learning_rate))\r\n",
      "        print('# communicator: {}'.format(communicator))\r\n",
      "\r\n",
      "    # Set up a neural network to train.\r\n",
      "    # Classifier reports softmax cross entropy loss and accuracy at every\r\n",
      "    # iteration, which will be used by the PrintReport extension below.\r\n",
      "\r\n",
      "    model = L.Classifier(net.VGG(10))\r\n",
      "    # Make a specified GPU current\r\n",
      "\r\n",
      "    # comm.intra_rank gives the rank of the process on a given node.\r\n",
      "    device = comm.intra_rank if num_gpus > 0 else -1\r\n",
      "    if device >= 0:\r\n",
      "        chainer.cuda.get_device_from_id(device).use()\r\n",
      "\r\n",
      "    optimizer = chainermn.create_multi_node_optimizer(chainer.optimizers.MomentumSGD(learning_rate), comm)\r\n",
      "    optimizer.setup(model)\r\n",
      "    optimizer.add_hook(chainer.optimizer.WeightDecay(5e-4))\r\n",
      "    \r\n",
      "    num_loaders = 2\r\n",
      "    train_iter = chainer.iterators.MultiprocessIterator(train, batch_size, n_processes=num_loaders)\r\n",
      "    test_iter = chainer.iterators.MultiprocessIterator(test, batch_size, repeat=False, n_processes=num_loaders)\r\n",
      "\r\n",
      "    # Set up a trainer\r\n",
      "    updater = training.StandardUpdater(train_iter, optimizer, device=device)\r\n",
      "    trainer = training.Trainer(updater, (epochs, 'epoch'), out=output_data_dir)\r\n",
      "\r\n",
      "    # Evaluate the model with the test dataset for each epoch\r\n",
      "\r\n",
      "    evaluator = extensions.Evaluator(test_iter, model, device=device)\r\n",
      "    evaluator = chainermn.create_multi_node_evaluator(evaluator, comm)\r\n",
      "    trainer.extend(evaluator)\r\n",
      "\r\n",
      "    # Reduce the learning rate by half every 25 epochs.\r\n",
      "    trainer.extend(extensions.ExponentialShift('lr', 0.5), trigger=(25, 'epoch'))\r\n",
      "\r\n",
      "    # Dump a computational graph from 'loss' variable at the first iteration\r\n",
      "    # The \"main\" refers to the target link of the \"main\" optimizer.\r\n",
      "    trainer.extend(extensions.dump_graph('main/loss'))\r\n",
      "\r\n",
      "    # Write a log of evaluation statistics for each epoch\r\n",
      "    trainer.extend(extensions.LogReport())\r\n",
      "    if comm.rank == 0:\r\n",
      "        if extensions.PlotReport.available():\r\n",
      "            trainer.extend(\r\n",
      "                extensions.PlotReport(['main/loss', 'validation/main/loss'],\r\n",
      "                                      'epoch', file_name='loss.png'))\r\n",
      "            trainer.extend(\r\n",
      "                extensions.PlotReport(\r\n",
      "                    ['main/accuracy', 'validation/main/accuracy'],\r\n",
      "                    'epoch', file_name='accuracy.png'))\r\n",
      "\r\n",
      "        trainer.extend(extensions.dump_graph('main/loss'))\r\n",
      "\r\n",
      "        trainer.extend(extensions.PrintReport(\r\n",
      "            ['epoch', 'main/loss', 'validation/main/loss',\r\n",
      "             'main/accuracy', 'validation/main/accuracy', 'elapsed_time']))\r\n",
      "\r\n",
      "    # Run the training\r\n",
      "    serializers.save_npz(os.path.join(model_dir, 'model.npz'), model)\r\n",
      "    \r\n",
      "    trainer.run()\r\n",
      "    return model\r\n",
      "\r\n",
      "\r\n",
      "def model_fn(model_dir):\r\n",
      "    \"\"\"\r\n",
      "    This function is called by the Chainer container during hosting when running on SageMaker with\r\n",
      "    values populated by the hosting environment.\r\n",
      "    \r\n",
      "    This function loads models written during training into `model_dir`.\r\n",
      "    \r\n",
      "\r\n",
      "    Args:\r\n",
      "        model_dir (str): path to the directory containing the saved model artifacts\r\n",
      "\r\n",
      "    Returns:\r\n",
      "        a loaded Chainer model\r\n",
      "    \r\n",
      "    For more on `model_fn`, please visit the sagemaker-python-sdk repository:\r\n",
      "    https://github.com/aws/sagemaker-python-sdk\r\n",
      "    \r\n",
      "    For more on the Chainer container, please visit the sagemaker-chainer-containers repository:\r\n",
      "    https://github.com/aws/sagemaker-chainer-containers\r\n",
      "    \"\"\"\r\n",
      "    chainer.config.train = False\r\n",
      "    model = L.Classifier(net.VGG(10))\r\n",
      "    serializers.load_npz(os.path.join(model_dir, 'model.npz'), model)\r\n",
      "    return model.predictor\r\n"
     ]
    }
   ],
   "source": [
    "!cat 'code/chainer_cifar_vgg_distributed.py'"
   ]
  },
  {
   "cell_type": "markdown",
   "metadata": {},
   "source": [
    "## Running the training script on SageMaker\n",
    "\n",
    "To train with a Chainer script, we construct a ```Chainer``` estimator using the [sagemaker-python-sdk](https://github.com/aws/sagemaker-python-sdk). We pass in an `entry_point`, the name of a script that contains a couple of functions with certain signatures (`train` and `model_fn`), and a `source_dir`, a directory containing all code to run inside the Chainer container. This script will be run on SageMaker in a container that invokes these functions to train and load Chainer models. \n",
    "\n",
    "The ```Chainer``` class allows us to run our training function as a training job on SageMaker infrastructure. We need to configure it with our training script, an IAM role, the number of training instances, and the training instance type. In this case we will run our training job on two `ml.p3.2xlarge` instances.\n",
    "\n",
    "This script uses the `chainermn` package, which distributes training with MPI. Your script is run with `mpirun`, so a ChainerMN Communicator object can be used to distribute training. Arguments to `mpirun` are set to sensible defaults, but you can configure how your script is run in distributed mode. See the ```Chainer``` class documentation for more on configuring MPI."
   ]
  },
  {
   "cell_type": "code",
   "execution_count": 5,
   "metadata": {},
   "outputs": [
    {
     "name": "stderr",
     "output_type": "stream",
     "text": [
      "INFO:sagemaker:Creating training-job with name: sagemaker-chainer-2018-05-18-22-55-37-158\n"
     ]
    },
    {
     "name": "stdout",
     "output_type": "stream",
     "text": [
      ".......................\n",
      "\u001b[31m2018-05-18 22:59:13,719 INFO - root - running container entrypoint\u001b[0m\n",
      "\u001b[31m2018-05-18 22:59:13,720 INFO - root - starting train task\u001b[0m\n",
      "\u001b[31m2018-05-18 22:59:13,731 INFO - container_support.app - started training: {'train_fn': <function train at 0x7fea17471bf8>}\u001b[0m\n",
      "\u001b[31mDownloading s3://sagemaker-us-west-2-142577830533/sagemaker-chainer-2018-05-18-22-55-37-158/source/sourcedir.tar.gz to /tmp/script.tar.gz\u001b[0m\n",
      "\u001b[31m2018-05-18 22:59:13,850 INFO - botocore.vendored.requests.packages.urllib3.connectionpool - Starting new HTTP connection (1): 169.254.170.2\u001b[0m\n",
      "\u001b[31m2018-05-18 22:59:13,933 INFO - botocore.vendored.requests.packages.urllib3.connectionpool - Starting new HTTPS connection (1): sagemaker-us-west-2-142577830533.s3.amazonaws.com\u001b[0m\n",
      "\u001b[31m2018-05-18 22:59:13,975 INFO - botocore.vendored.requests.packages.urllib3.connectionpool - Starting new HTTPS connection (2): sagemaker-us-west-2-142577830533.s3.amazonaws.com\u001b[0m\n",
      "\u001b[31m2018-05-18 22:59:14,067 INFO - botocore.vendored.requests.packages.urllib3.connectionpool - Starting new HTTPS connection (1): sagemaker-us-west-2-142577830533.s3.us-west-2.amazonaws.com\u001b[0m\n",
      "\u001b[31m2018-05-18 22:59:14,146 INFO - botocore.vendored.requests.packages.urllib3.connectionpool - Starting new HTTPS connection (2): sagemaker-us-west-2-142577830533.s3.us-west-2.amazonaws.com\u001b[0m\n",
      "\u001b[31m2018-05-18 22:59:14,524 INFO - chainer_framework.training - hosts that aren't SSHable yet: ['algo-1', 'algo-2']\u001b[0m\n",
      "\u001b[31m2018-05-18 22:59:15,526 INFO - chainer_framework.training - hosts that aren't SSHable yet: ['algo-1', 'algo-2']\u001b[0m\n",
      "\u001b[31m2018-05-18 22:59:16,528 INFO - chainer_framework.training - hosts that aren't SSHable yet: ['algo-2']\u001b[0m\n",
      "\u001b[31m2018-05-18 22:59:17,530 INFO - chainer_framework.training - hosts that aren't SSHable yet: ['algo-2']\u001b[0m\n",
      "\u001b[31m2018-05-18 22:59:18,533 INFO - chainer_framework.training - hosts that aren't SSHable yet: ['algo-2']\u001b[0m\n",
      "\u001b[31m2018-05-18 22:59:19,534 INFO - chainer_framework.training - mpi_command: mpirun --allow-run-as-root --host algo-1,algo-2 -mca btl_tcp_if_include ethwe -mca oob_tcp_if_include ethwe -mca btl ^openib -x PATH -x LD_LIBRARY_PATH -x LD_PRELOAD=/libchangehostname.so -mca orte_abort_on_non_zero_status 1 -x NCCL_DEBUG=INFO -x NCCL_SOCKET_IFNAME=ethwe -np 2    /mpi_script.sh\u001b[0m\n",
      "\u001b[32m2018-05-18 22:59:16,792 INFO - root - running container entrypoint\u001b[0m\n",
      "\u001b[32m2018-05-18 22:59:16,793 INFO - root - starting train task\u001b[0m\n",
      "\u001b[32m2018-05-18 22:59:16,806 INFO - container_support.app - started training: {'train_fn': <function train at 0x7f547d707bf8>}\u001b[0m\n",
      "\u001b[32mDownloading s3://sagemaker-us-west-2-142577830533/sagemaker-chainer-2018-05-18-22-55-37-158/source/sourcedir.tar.gz to /tmp/script.tar.gz\u001b[0m\n",
      "\u001b[32m2018-05-18 22:59:16,914 INFO - botocore.vendored.requests.packages.urllib3.connectionpool - Starting new HTTP connection (1): 169.254.170.2\u001b[0m\n",
      "\u001b[32m2018-05-18 22:59:16,997 INFO - botocore.vendored.requests.packages.urllib3.connectionpool - Starting new HTTPS connection (1): sagemaker-us-west-2-142577830533.s3.amazonaws.com\u001b[0m\n",
      "\u001b[32m2018-05-18 22:59:17,089 INFO - botocore.vendored.requests.packages.urllib3.connectionpool - Starting new HTTPS connection (2): sagemaker-us-west-2-142577830533.s3.amazonaws.com\u001b[0m\n",
      "\u001b[32m2018-05-18 22:59:17,108 INFO - botocore.vendored.requests.packages.urllib3.connectionpool - Starting new HTTPS connection (1): sagemaker-us-west-2-142577830533.s3.us-west-2.amazonaws.com\u001b[0m\n",
      "\u001b[32m2018-05-18 22:59:17,174 INFO - botocore.vendored.requests.packages.urllib3.connectionpool - Starting new HTTPS connection (2): sagemaker-us-west-2-142577830533.s3.us-west-2.amazonaws.com\u001b[0m\n",
      "\u001b[32m2018-05-18 22:59:17,750 INFO - chainer_framework.training - worker node algo-2 is waiting for MPI to start training process \u001b[0m\n",
      "\u001b[31mWarning: Permanently added 'algo-2,10.40.0.3' (ECDSA) to the list of known hosts.#015\u001b[0m\n",
      "\u001b[32m2018-05-18 22:59:20,753 INFO - chainer_framework.training - MPI started training process on worker node algo-2\u001b[0m\n",
      "\u001b[31m# Minibatch-size: 256\u001b[0m\n",
      "\u001b[31m# epoch: 30\u001b[0m\n",
      "\u001b[31m# learning rate: 0.05\u001b[0m\n",
      "\u001b[31m# communicator: pure_nccl\u001b[0m\n",
      "\u001b[31mepoch       main/loss   validation/main/loss  main/accuracy  validation/main/accuracy  elapsed_time\n",
      "\u001b[0m\n",
      "\u001b[31malgo-1:47:47 [0] misc/ibvwrap.cu:60 WARN Failed to open libibverbs.so[.1]\u001b[0m\n",
      "\u001b[31malgo-1:47:47 [0] INFO Using internal Network Socket\u001b[0m\n",
      "\u001b[31malgo-1:47:47 [0] INFO Using NCCL Low-latency algorithm for sizes below 16384\u001b[0m\n",
      "\u001b[31malgo-1:47:47 [0] INFO NET : Using interface ethwe:10.32.0.4<0>\u001b[0m\n",
      "\u001b[31malgo-1:47:47 [0] INFO NET/Socket : 1 interfaces found\u001b[0m\n",
      "\u001b[31mNCCL version 2.1.15+cuda9.0\n",
      "\u001b[0m\n",
      "\u001b[31malgo-2:53:53 [0] misc/ibvwrap.cu:60 WARN Failed to open libibverbs.so[.1]\u001b[0m\n",
      "\u001b[31malgo-2:53:53 [0] INFO Using internal Network Socket\u001b[0m\n",
      "\u001b[31malgo-2:53:53 [0] INFO Using NCCL Low-latency algorithm for sizes below 16384\u001b[0m\n",
      "\u001b[31malgo-2:53:53 [0] INFO NET : Using interface ethwe:10.40.0.3<0>\u001b[0m\n",
      "\u001b[31malgo-2:53:53 [0] INFO NET/Socket : 1 interfaces found\u001b[0m\n",
      "\u001b[31mNCCL version 2.1.15+cuda9.0\u001b[0m\n",
      "\u001b[31malgo-1:47:47 [0] INFO Using 256 threads\u001b[0m\n",
      "\u001b[31malgo-1:47:47 [0] INFO Min Comp Cap 7\u001b[0m\n",
      "\u001b[31malgo-1:47:47 [0] INFO NCCL_SINGLE_RING_THRESHOLD=262144\u001b[0m\n",
      "\u001b[31malgo-2:53:53 [0] INFO Using 256 threads\u001b[0m\n",
      "\u001b[31malgo-2:53:53 [0] INFO Min Comp Cap 7\u001b[0m\n",
      "\u001b[31malgo-2:53:53 [0] INFO NCCL_SINGLE_RING_THRESHOLD=262144\u001b[0m\n",
      "\u001b[31malgo-1:47:47 [0] INFO Using 256 threads\u001b[0m\n",
      "\u001b[31malgo-1:47:47 [0] INFO Min Comp Cap 7\u001b[0m\n",
      "\u001b[31malgo-1:47:47 [0] INFO NCCL_SINGLE_RING_THRESHOLD=262144\u001b[0m\n",
      "\u001b[31malgo-1:47:47 [0] INFO Ring 00 :    0   1\u001b[0m\n",
      "\u001b[31malgo-1:47:47 [0] INFO 1 -> 0 via NET/Socket/0\u001b[0m\n",
      "\u001b[31malgo-2:53:53 [0] INFO 0 -> 1 via NET/Socket/0\u001b[0m\n",
      "\u001b[31malgo-1:47:47 [0] INFO Launch mode Parallel\u001b[0m\n",
      "\u001b[31m#033[J1           2.01676     3.14589               0.215482       0.108838                  78.7309       \u001b[0m\n",
      "\u001b[31m#033[J2           1.5313      3.00417               0.405549       0.191748                  136.754       \u001b[0m\n",
      "\u001b[31m#033[J3           1.15488     1.98852               0.570773       0.395605                  193.958       \u001b[0m\n",
      "\u001b[31m#033[J4           0.90405     1.13581               0.675323       0.641406                  249.561       \u001b[0m\n",
      "\u001b[31m#033[J5           0.753851    0.889203              0.73744        0.713184                  305.7         \u001b[0m\n",
      "\u001b[31m#033[J6           0.655014    0.868803              0.778706       0.722168                  362.494       \u001b[0m\n",
      "\u001b[31m#033[J7           0.577189    1.0752                0.806581       0.664258                  418.501       \u001b[0m\n",
      "\u001b[31m#033[J8           0.519819    1.13472               0.828285       0.671289                  475.184       \u001b[0m\n",
      "\u001b[31m#033[J9           0.45723     0.680992              0.848257       0.790625                  531.459       \u001b[0m\n",
      "\u001b[31m#033[J10          0.418107    0.715236              0.863082       0.774121                  587.96        \u001b[0m\n",
      "\u001b[31m#033[J11          0.386636    0.716388              0.873217       0.769824                  644.137       \u001b[0m\n",
      "\u001b[31m#033[J12          0.356411    0.594761              0.882392       0.817432                  699.57        \u001b[0m\n",
      "\u001b[31m#033[J13          0.32435     0.570346              0.893575       0.82085                   755.751       \u001b[0m\n",
      "\u001b[31m#033[J14          0.299559    0.561268              0.902364       0.831641                  811.577       \u001b[0m\n",
      "\u001b[31m#033[J15          0.284213    0.498949              0.907752       0.844727                  867.628       \u001b[0m\n",
      "\u001b[31m#033[J16          0.264984    0.627419              0.914583       0.810059                  924.707       \u001b[0m\n",
      "\u001b[31m#033[J17          0.258426    0.615357              0.915099       0.818066                  983.169       \u001b[0m\n",
      "\u001b[31m#033[J18          0.242234    0.658826              0.920813       0.811182                  1045.11       \u001b[0m\n",
      "\u001b[31m#033[J19          0.228557    0.461443              0.924219       0.857764                  1103.27       \u001b[0m\n",
      "\u001b[31m#033[J20          0.215072    0.54257               0.929847       0.839355                  1158.69       \u001b[0m\n",
      "\u001b[31m#033[J21          0.21058     0.491767              0.931871       0.850195                  1215.6        \u001b[0m\n",
      "\u001b[31m#033[J22          0.199678    0.59589               0.935216       0.827686                  1271.93       \u001b[0m\n",
      "\u001b[31m#033[J23          0.195721    0.490766              0.936842       0.85459                   1328.26       \u001b[0m\n",
      "\u001b[31m#033[J24          0.183411    0.543034              0.940004       0.845752                  1384.59       \u001b[0m\n",
      "\u001b[31m#033[J25          0.182507    0.516242              0.940445       0.850537                  1440.79       \u001b[0m\n",
      "\u001b[31m#033[J26          0.122533    0.486321              0.960858       0.873145                  1497.5        \u001b[0m\n",
      "\u001b[31m#033[J27          0.0965669   0.443649              0.96895        0.884815                  1553.32       \u001b[0m\n",
      "\u001b[31m#033[J28          0.0881143   0.47343               0.972035       0.877686                  1609.41       \u001b[0m\n",
      "\u001b[31m#033[J29          0.0878301   0.50082               0.9715         0.871143                  1665.81       \u001b[0m\n",
      "\u001b[31m#033[J30          0.0861912   0.488961              0.972075       0.877246                  1721.96       \u001b[0m\n",
      "\u001b[32m2018-05-18 23:28:12,059 INFO - chainer_framework.training - Training process started by MPI on worker node algo-2 stopped\u001b[0m\n"
     ]
    },
    {
     "name": "stdout",
     "output_type": "stream",
     "text": [
      "===== Job Complete =====\n",
      "Billable seconds: 3735\n"
     ]
    }
   ],
   "source": [
    "from sagemaker.chainer.estimator import Chainer\n",
    "\n",
    "chainer_estimator = Chainer(entry_point='chainer_cifar_vgg_distributed.py', source_dir=\"code\", role=role,\n",
    "                            use_mpi=True, sagemaker_session=sagemaker_session,\n",
    "                            train_instance_count=2, train_instance_type='ml.p3.2xlarge',\n",
    "                            hyperparameters={'epochs': 30, 'batch_size': 256})\n",
    "\n",
    "chainer_estimator.fit({'train': train_input, 'test': test_input})"
   ]
  },
  {
   "cell_type": "markdown",
   "metadata": {},
   "source": [
    "Our Chainer script writes various artifacts, such as plots, to a directory `output_data_dir`, the contents of which which SageMaker uploads to S3. Now we download and extract these artifacts."
   ]
  },
  {
   "cell_type": "code",
   "execution_count": 6,
   "metadata": {},
   "outputs": [],
   "source": [
    "from s3_util import retrieve_output_from_s3\n",
    "\n",
    "chainer_training_job = chainer_estimator.latest_training_job.name\n",
    "\n",
    "desc = sagemaker_session.sagemaker_client.describe_training_job(TrainingJobName=chainer_training_job)\n",
    "output_data = desc['ModelArtifacts']['S3ModelArtifacts'].replace('model.tar.gz', 'output.tar.gz')\n",
    "\n",
    "retrieve_output_from_s3(output_data, 'output/distributed_cifar')"
   ]
  },
  {
   "cell_type": "markdown",
   "metadata": {},
   "source": [
    "These plots show the accuracy and loss over epochs:"
   ]
  },
  {
   "cell_type": "code",
   "execution_count": 7,
   "metadata": {},
   "outputs": [
    {
     "data": {
      "image/png": "[encoded data removed]",
      "text/plain": [
       "<IPython.core.display.Image object>"
      ]
     },
     "metadata": {
      "image/png": {
       "height": 800,
       "width": 800
      }
     },
     "output_type": "display_data"
    },
    {
     "data": {
      "image/png": "[encoded data removed]",
      "text/plain": [
       "<IPython.core.display.Image object>"
      ]
     },
     "metadata": {
      "image/png": {
       "height": 800,
       "width": 800
      }
     },
     "output_type": "display_data"
    }
   ],
   "source": [
    "from IPython.display import Image\n",
    "from IPython.display import display\n",
    "\n",
    "accuracy_graph = Image(filename = \"output/distributed_cifar/algo-1/accuracy.png\", width=800, height=800)\n",
    "loss_graph = Image(filename = \"output/distributed_cifar/algo-1/loss.png\", width=800, height=800)\n",
    "\n",
    "display(accuracy_graph, loss_graph)"
   ]
  },
  {
   "cell_type": "markdown",
   "metadata": {},
   "source": [
    "## Deploying the Trained Model\n",
    "\n",
    "After training, we use the Chainer estimator object to create and deploy a hosted prediction endpoint. We can use a CPU-based instance for inference (in this case an `ml.m4.xlarge`), even though we trained on GPU instances.\n",
    "\n",
    "The predictor object returned by `deploy` lets us call the new endpoint and perform inference on our sample images. "
   ]
  },
  {
   "cell_type": "code",
   "execution_count": 8,
   "metadata": {},
   "outputs": [
    {
     "name": "stderr",
     "output_type": "stream",
     "text": [
      "INFO:sagemaker:Creating model with name: sagemaker-chainer-2018-05-18-22-55-37-158\n",
      "INFO:sagemaker:Creating endpoint with name sagemaker-chainer-2018-05-18-22-55-37-158\n"
     ]
    },
    {
     "name": "stdout",
     "output_type": "stream",
     "text": [
      "----------------------------------------------------------------------------------------------------------------!"
     ]
    }
   ],
   "source": [
    "predictor = chainer_estimator.deploy(initial_instance_count=1, instance_type='ml.m4.xlarge')"
   ]
  },
  {
   "cell_type": "markdown",
   "metadata": {},
   "source": [
    "### CIFAR10 sample images\n",
    "\n",
    "We'll use these CIFAR10 sample images to test the service:\n",
    "\n",
    "<img style=\"display: inline; height: 32px; margin: 0.25em\" src=\"images/airplane1.png\" />\n",
    "<img style=\"display: inline; height: 32px; margin: 0.25em\" src=\"images/automobile1.png\" />\n",
    "<img style=\"display: inline; height: 32px; margin: 0.25em\" src=\"images/bird1.png\" />\n",
    "<img style=\"display: inline; height: 32px; margin: 0.25em\" src=\"images/cat1.png\" />\n",
    "<img style=\"display: inline; height: 32px; margin: 0.25em\" src=\"images/deer1.png\" />\n",
    "<img style=\"display: inline; height: 32px; margin: 0.25em\" src=\"images/dog1.png\" />\n",
    "<img style=\"display: inline; height: 32px; margin: 0.25em\" src=\"images/frog1.png\" />\n",
    "<img style=\"display: inline; height: 32px; margin: 0.25em\" src=\"images/horse1.png\" />\n",
    "<img style=\"display: inline; height: 32px; margin: 0.25em\" src=\"images/ship1.png\" />\n",
    "<img style=\"display: inline; height: 32px; margin: 0.25em\" src=\"images/truck1.png\" />\n",
    "\n"
   ]
  },
  {
   "cell_type": "markdown",
   "metadata": {},
   "source": [
    "## Predicting using SageMaker Endpoint\n",
    "\n",
    "We batch the images together into a single NumPy array to obtain multiple inferences with a single prediction request."
   ]
  },
  {
   "cell_type": "code",
   "execution_count": 9,
   "metadata": {},
   "outputs": [],
   "source": [
    "from skimage import io\n",
    "import numpy as np\n",
    "\n",
    "def read_image(filename):\n",
    "    img = io.imread(filename)\n",
    "    img = np.array(img).transpose(2, 0, 1)\n",
    "    img = np.expand_dims(img, axis=0)\n",
    "    img = img.astype(np.float32)\n",
    "    img *= 1. / 255.\n",
    "    img = img.reshape(3, 32, 32)\n",
    "    return img\n",
    "\n",
    "\n",
    "def read_images(filenames):\n",
    "    return np.array([read_image(f) for f in filenames])\n",
    "\n",
    "filenames = ['images/airplane1.png',\n",
    "             'images/automobile1.png',\n",
    "             'images/bird1.png',\n",
    "             'images/cat1.png',\n",
    "             'images/deer1.png',\n",
    "             'images/dog1.png',\n",
    "             'images/frog1.png',\n",
    "             'images/horse1.png',\n",
    "             'images/ship1.png',\n",
    "             'images/truck1.png']\n",
    "\n",
    "image_data = read_images(filenames)"
   ]
  },
  {
   "cell_type": "markdown",
   "metadata": {},
   "source": [
    "The predictor runs inference on our input data and returns a list of predictions whose argmax gives the predicted label of the input data. "
   ]
  },
  {
   "cell_type": "code",
   "execution_count": 10,
   "metadata": {},
   "outputs": [
    {
     "name": "stdout",
     "output_type": "stream",
     "text": [
      "image 0: prediction: 0\n",
      "image 1: prediction: 1\n",
      "image 2: prediction: 2\n",
      "image 3: prediction: 3\n",
      "image 4: prediction: 4\n",
      "image 5: prediction: 5\n",
      "image 6: prediction: 6\n",
      "image 7: prediction: 7\n",
      "image 8: prediction: 8\n",
      "image 9: prediction: 9\n"
     ]
    }
   ],
   "source": [
    "response = predictor.predict(image_data)\n",
    "\n",
    "for i, prediction in enumerate(response):\n",
    "    print('image {}: prediction: {}'.format(i, prediction.argmax(axis=0)))"
   ]
  },
  {
   "cell_type": "markdown",
   "metadata": {},
   "source": [
    "## Cleanup\n",
    "\n",
    "After you have finished with this example, remember to delete the prediction endpoint to release the instance(s) associated with it."
   ]
  },
  {
   "cell_type": "code",
   "execution_count": 11,
   "metadata": {},
   "outputs": [
    {
     "name": "stderr",
     "output_type": "stream",
     "text": [
      "INFO:sagemaker:Deleting endpoint with name: sagemaker-chainer-2018-05-18-22-55-37-158\n"
     ]
    }
   ],
   "source": [
    "chainer_estimator.delete_endpoint()"
   ]
  }
 ],
 "metadata": {
  "kernelspec": {
   "display_name": "conda_chainer_p36",
   "language": "python",
   "name": "conda_chainer_p36"
  },
  "language_info": {
   "codemirror_mode": {
    "name": "ipython",
    "version": 3
   },
   "file_extension": ".py",
   "mimetype": "text/x-python",
   "name": "python",
   "nbconvert_exporter": "python",
   "pygments_lexer": "ipython3",
   "version": "3.6.4"
  },
  "notice": "Copyright 2017 Amazon.com, Inc. or its affiliates. All Rights Reserved.  Licensed under the Apache License, Version 2.0 (the \"License\"). You may not use this file except in compliance with the License. A copy of the License is located at http://aws.amazon.com/apache2.0/ or in the \"license\" file accompanying this file. This file is distributed on an \"AS IS\" BASIS, WITHOUT WARRANTIES OR CONDITIONS OF ANY KIND, either express or implied. See the License for the specific language governing permissions and limitations under the License."
 },
 "nbformat": 4,
 "nbformat_minor": 2
}
