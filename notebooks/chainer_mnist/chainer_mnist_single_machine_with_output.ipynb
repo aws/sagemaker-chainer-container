{
 "cells": [
  {
   "cell_type": "markdown",
   "metadata": {},
   "source": [
    "## MNIST Training and Prediction with SageMaker Chainer\n",
    "\n",
    "[MNIST](http://yann.lecun.com/exdb/mnist/), the \"Hello World\" of machine learning, is a popular dataset for handwritten digit classification. It consists of 70,000 28x28 grayscale images labeled in 10 digit classes (0 to 9). This tutorial will show how to train a model to predict handwritten digits on the MNIST dataset by running a Chainer script on SageMaker using the sagemaker-python-sdk.\n",
    "\n",
    "For more on the Chainer container, please visit the sagemaker-chainer-containers repository and the sagemaker-python-sdk repository:\n",
    "\n",
    "* https://github.com/aws/sagemaker-chainer-containers\n",
    "* https://github.com/aws/sagemaker-python-sdk"
   ]
  },
  {
   "cell_type": "code",
   "execution_count": 1,
   "metadata": {},
   "outputs": [],
   "source": [
    "import sagemaker\n",
    "from sagemaker import get_execution_role\n",
    "\n",
    "sagemaker_session = sagemaker.Session()\n",
    "\n",
    "# Get a SageMaker-compatible role used by this Notebook Instance.\n",
    "role = get_execution_role()"
   ]
  },
  {
   "cell_type": "markdown",
   "metadata": {},
   "source": [
    "This notebook shows how to use the SageMaker Python SDK to run your code in a local container before deploying to SageMaker's managed training or hosting environments. This can speed up iterative testing and debugging while using the same familiar Python SDK interface. Just change your estimator's train_instance_type to `local` or `local_gpu`. For more information, see [local mode](https://github.com/aws/sagemaker-python-sdk#local-mode).\n",
    "\n",
    "In order to use this feature you'll need to install docker-compose (and nvidia-docker if training with a GPU). Running following script will install docker-compose or nvidia-docker-compose and configure the notebook environment for you.\n",
    "\n",
    "Note, you can only run a single local notebook at one time."
   ]
  },
  {
   "cell_type": "code",
   "execution_count": 2,
   "metadata": {},
   "outputs": [
    {
     "name": "stdout",
     "output_type": "stream",
     "text": [
      "Collecting docker-compose\n",
      "  Using cached https://files.pythonhosted.org/packages/27/3c/6fcaa3b546ae8103c444149a1746f9a7043df7503e12bad318e8217312fb/docker_compose-1.21.2-py2.py3-none-any.whl\n",
      "Requirement already satisfied: jsonschema<3,>=2.5.1 in /home/ec2-user/anaconda3/envs/chainer_p36/lib/python3.6/site-packages (from docker-compose)\n",
      "Collecting websocket-client<1.0,>=0.32.0 (from docker-compose)\n",
      "  Using cached https://files.pythonhosted.org/packages/9d/fb/f51a03e232e00d6c504dfe815aed090c894ba3f8d3f7fd9612f3e227bf24/websocket_client-0.47.0-py2.py3-none-any.whl\n",
      "Requirement already satisfied: cached-property<2,>=1.2.0 in /home/ec2-user/anaconda3/envs/chainer_p36/lib/python3.6/site-packages (from docker-compose)\n",
      "Collecting texttable<0.10,>=0.9.0 (from docker-compose)\n",
      "  Using cached https://files.pythonhosted.org/packages/02/e1/2565e6b842de7945af0555167d33acfc8a615584ef7abd30d1eae00a4d80/texttable-0.9.1.tar.gz\n",
      "Collecting docopt<0.7,>=0.6.1 (from docker-compose)\n",
      "Collecting dockerpty<0.5,>=0.4.1 (from docker-compose)\n",
      "  Using cached https://files.pythonhosted.org/packages/8d/ee/e9ecce4c32204a6738e0a5d5883d3413794d7498fe8b06f44becc028d3ba/dockerpty-0.4.1.tar.gz\n",
      "Requirement already satisfied: requests!=2.11.0,!=2.12.2,!=2.18.0,<2.19,>=2.6.1 in /home/ec2-user/anaconda3/envs/chainer_p36/lib/python3.6/site-packages (from docker-compose)\n",
      "Collecting docker<4.0,>=3.3.0 (from docker-compose)\n",
      "  Using cached https://files.pythonhosted.org/packages/31/01/41f727a549abd788eb91d0df4c801cb4c1f5227eee04a2621e13d7ed3e04/docker-3.3.0-py2.py3-none-any.whl\n",
      "Requirement already satisfied: six<2,>=1.3.0 in /home/ec2-user/anaconda3/envs/chainer_p36/lib/python3.6/site-packages (from docker-compose)\n",
      "Requirement already satisfied: PyYAML<4,>=3.10 in /home/ec2-user/anaconda3/envs/chainer_p36/lib/python3.6/site-packages (from docker-compose)\n",
      "Requirement already satisfied: chardet<3.1.0,>=3.0.2 in /home/ec2-user/anaconda3/envs/chainer_p36/lib/python3.6/site-packages (from requests!=2.11.0,!=2.12.2,!=2.18.0,<2.19,>=2.6.1->docker-compose)\n",
      "Requirement already satisfied: idna<2.7,>=2.5 in /home/ec2-user/anaconda3/envs/chainer_p36/lib/python3.6/site-packages (from requests!=2.11.0,!=2.12.2,!=2.18.0,<2.19,>=2.6.1->docker-compose)\n",
      "Requirement already satisfied: urllib3<1.23,>=1.21.1 in /home/ec2-user/anaconda3/envs/chainer_p36/lib/python3.6/site-packages (from requests!=2.11.0,!=2.12.2,!=2.18.0,<2.19,>=2.6.1->docker-compose)\n",
      "Requirement already satisfied: certifi>=2017.4.17 in /home/ec2-user/anaconda3/envs/chainer_p36/lib/python3.6/site-packages (from requests!=2.11.0,!=2.12.2,!=2.18.0,<2.19,>=2.6.1->docker-compose)\n",
      "Collecting docker-pycreds>=0.2.3 (from docker<4.0,>=3.3.0->docker-compose)\n",
      "  Using cached https://files.pythonhosted.org/packages/5c/b6/3a4ca03225f6e9a25cb47cd3c695d19b88df5928ab9310e64dec1eb3b4d1/docker_pycreds-0.2.3-py2.py3-none-any.whl\n",
      "Building wheels for collected packages: texttable, dockerpty\n",
      "  Running setup.py bdist_wheel for texttable ... \u001b[?25ldone\n",
      "\u001b[?25h  Stored in directory: /home/ec2-user/.cache/pip/wheels/99/1e/2b/8452d3a48dad98632787556a0f2f90d56703b39cdf7d142dd1\n",
      "  Running setup.py bdist_wheel for dockerpty ... \u001b[?25ldone\n",
      "\u001b[?25h  Stored in directory: /home/ec2-user/.cache/pip/wheels/e5/1e/86/bd0a97a0907c6c654af654d5875d1d4383dd1f575f77cee4aa\n",
      "Successfully built texttable dockerpty\n",
      "Installing collected packages: websocket-client, texttable, docopt, dockerpty, docker-pycreds, docker, docker-compose\n",
      "Successfully installed docker-3.3.0 docker-compose-1.21.2 docker-pycreds-0.2.3 dockerpty-0.4.1 docopt-0.6.2 texttable-0.9.1 websocket-client-0.47.0\n",
      "\u001b[33mYou are using pip version 9.0.1, however version 10.0.1 is available.\n",
      "You should consider upgrading via the 'pip install --upgrade pip' command.\u001b[0m\n",
      "SageMaker instance route table setup is ok. We are good to go.\n",
      "SageMaker instance routing for Docker is ok. We are good to go!\n"
     ]
    }
   ],
   "source": [
    "!/bin/bash ./setup.sh"
   ]
  },
  {
   "cell_type": "markdown",
   "metadata": {},
   "source": [
    "## Download MNIST datasets\n",
    "\n",
    "We can use Chainer's built-in get_mnist() method to download, import and preprocess the MNIST dataset."
   ]
  },
  {
   "cell_type": "code",
   "execution_count": 3,
   "metadata": {
    "scrolled": true
   },
   "outputs": [
    {
     "name": "stderr",
     "output_type": "stream",
     "text": [
      "/home/ec2-user/anaconda3/envs/chainer_p36/lib/python3.6/site-packages/h5py/__init__.py:36: FutureWarning: Conversion of the second argument of issubdtype from `float` to `np.floating` is deprecated. In future, it will be treated as `np.float64 == np.dtype(float).type`.\n",
      "  from ._conv import register_converters as _register_converters\n"
     ]
    }
   ],
   "source": [
    "import chainer\n",
    "\n",
    "train, test = chainer.datasets.get_mnist()"
   ]
  },
  {
   "cell_type": "markdown",
   "metadata": {},
   "source": [
    "## Parse, save, and upload the data\n",
    "\n",
    "We save our data, then use sagemaker_session.upload_data to upload the data to an S3 location used for training. The return value identifies the S3 path to the uploaded data."
   ]
  },
  {
   "cell_type": "code",
   "execution_count": 4,
   "metadata": {},
   "outputs": [],
   "source": [
    "import os\n",
    "import shutil\n",
    "import numpy as np\n",
    "\n",
    "train_images = np.array([data[0] for data in train])\n",
    "train_labels = np.array([data[1] for data in train])\n",
    "test_images = np.array([data[0] for data in test])\n",
    "test_labels = np.array([data[1] for data in test])\n",
    "\n",
    "try:\n",
    "    os.makedirs('/tmp/data/train')\n",
    "    os.makedirs('/tmp/data/test')\n",
    "\n",
    "    np.savez('/tmp/data/train/train.npz', images=train_images, labels=train_labels)\n",
    "    np.savez('/tmp/data/test/test.npz', images=test_images, labels=test_labels)\n",
    "\n",
    "    train_input = sagemaker_session.upload_data(path=os.path.join('/tmp/data', 'train'), key_prefix='notebook/chainer/mnist')\n",
    "    test_input = sagemaker_session.upload_data(path=os.path.join('/tmp/data', 'test'), key_prefix='notebook/chainer/mnist')\n",
    "finally:\n",
    "    shutil.rmtree('/tmp/data')"
   ]
  },
  {
   "cell_type": "markdown",
   "metadata": {},
   "source": [
    "## Prepare user script for training and prediction\n",
    "\n",
    "\n",
    "Writing the Chainer training script to run on Amazon SageMaker\n",
    "We need to provide a training script that can run on the SageMaker platform. The training scripts are essentially the same as one you would write for local training, except that you need to provide a function train that returns a trained model.\n",
    "\n",
    "Since we will use the same script to host the Chainer model, the script also needs a function model_fn that loads the model -- by default, Chainer models are saved to disk as model.npz. When SageMaker calls your train and model_fn functions, it will pass in arguments that describe the training environment.\n",
    "\n",
    "While the train and model_fn functions are required, the Chainer container provides default implementations for a few other functions. The function hooks recognized by the container are listed below, with required functions in bold:\n",
    "\n",
    "### Training\n",
    "* **`train`**: This function is passed arguments read from the Training Job's environment and returns a trained model. The return value of train is saved and uploaded to S3 as a model artifact by save.\n",
    "\n",
    "`train` can accept the following arguments by name:\n",
    "\n",
    "* `hyperparameters (dict)`: The hyperparameters map passed from the SageMaker Python SDK.\n",
    "* `channel_input_dirs (dict of str: str)`: A map of input channel names (like 'train' and 'test') to filesystem paths to data in those input channels.\n",
    "* `output_data_dir (str)`: The filesystem path to write output artifacts to. Output artifacts may include checkpoints, graphs, and other files you might like to save, not including model artifacts. These artifacts are uploaded to S3 along with your model artifacts.\n",
    "* `num_gpus (int)`: The number of GPUs available to the host.\n",
    "* `num_cpus (int)`: The number of CPUs available to the host.\n",
    "* `hosts (list of str)`: The list of hostnames for all Training Job instances.\n",
    "* `current_host (str)`: The hostname of the current host.\n",
    "For more on the arguments to train and others, please visit https://github.com/aws/sagemaker-containers.\n",
    "\n",
    "* `save(model, model_dir)`: Writes the return value from train (passed in as model) to model_dir. These model artifacts are uploaded to S3 so that they can be hosted behind a SageMaker Endpoint.\n",
    "\n",
    "The default implementation saves the model as a file named model.npz file by invoking chainer.serializers.save_npz\n",
    "\n",
    "### Hosting and Inference\n",
    "* **`model_fn(model_dir)`**: This function is invoked to load model artifacts from those written into model_dir by save.input_data\n",
    "* `input_fn(input_data, content_type)`: This function is invoked to deserialize prediction data when a prediction request is made. The return value is passed to predict_fn. input_fn accepts two arguments: input_data, which is the serialized input data in the body of the prediction request, and content_type, the MIME type of the data.\n",
    "\n",
    "The default implementation deserializes npy-formatted data into a NumPy array with content type 'application/x-npy', but the default handler can also handle CSV data with content type 'text/csv' and JSON data with content type 'application/json'\n",
    "\n",
    "`input_fn` accepts the following arguments:\n",
    "\n",
    "* `input_data`: serialized input data in the body of the prediction request.\n",
    "* `content_type`: MIME type of the data. By default, the Chainer predictor sends prediction requests with content type 'application/x-npy'.\n",
    "* `predict_fn(input_data, model)`: This function accepts the return value of input_fn (as input_data) and the return value of model_fn, model, and returns inferences obtained from the model.\n",
    "\n",
    "The default implementation calls model(input_data) and returns the result as a NumPy array.\n",
    "\n",
    "* `output_fn(prediction, accept)`: This function is invoked to serialize the return value from predict_fn, passed in via prediction, back to the SageMaker client in response to prediction requests\n",
    "\n",
    "The default implementation serializes NumPy arrays returned by predict_fn, which the SageMaker Python SDK can deserialize back into a NumPy array, but the default handler can also respond with JSON or CSV, depending on the accept MIME type given in the prediction request.\n",
    "\n",
    "Check the script below, which uses chainer to train on any number of GPUs on a single machine, to see how this works. This script implements train, and model_fn, but relies on the default save, input_fn, predict_fn, output_fn.\n",
    "\n",
    "For more on implementing these functions, see the documentation at https://github.com/aws/sagemaker-python-sdk.\n",
    "\n",
    "For more on the functions provided by the Chainer container, see https://github.com/aws/sagemaker-chainer-containers\n",
    "\n",
    "See the script below, which uses chainer to train on any number of GPUs on a single machine, to see how this works. For more on implementing these functions, see the documentation at https://github.com/aws/sagemaker-python-sdk.\n",
    "\n",
    "The below user script used in our tutorial is adapted from [chainer mnist example](https://github.com/chainer/chainer/blob/master/examples/mnist/train_mnist_data_parallel.py)"
   ]
  },
  {
   "cell_type": "code",
   "execution_count": 5,
   "metadata": {},
   "outputs": [
    {
     "name": "stdout",
     "output_type": "stream",
     "text": [
      "#  Copyright 2018 Amazon.com, Inc. or its affiliates. All Rights Reserved.\r\n",
      "#  \r\n",
      "#  Licensed under the Apache License, Version 2.0 (the \"License\").\r\n",
      "#  You may not use this file except in compliance with the License.\r\n",
      "#  A copy of the License is located at\r\n",
      "#  \r\n",
      "#      http://www.apache.org/licenses/LICENSE-2.0\r\n",
      "#  \r\n",
      "#  or in the \"license\" file accompanying this file. This file is distributed \r\n",
      "#  on an \"AS IS\" BASIS, WITHOUT WARRANTIES OR CONDITIONS OF ANY KIND, either \r\n",
      "#  express or implied. See the License for the specific language governing \r\n",
      "#  permissions and limitations under the License.\r\n",
      "\r\n",
      "from __future__ import print_function\r\n",
      "\r\n",
      "import os\r\n",
      "\r\n",
      "import numpy as np\r\n",
      "import chainer\r\n",
      "import chainer.functions as F\r\n",
      "import chainer.links as L\r\n",
      "from chainer import training, serializers\r\n",
      "from chainer.training import extensions\r\n",
      "from chainer.datasets import tuple_dataset\r\n",
      "\r\n",
      "\r\n",
      "# Define the network to train MNIST\r\n",
      "class MLP(chainer.Chain):\r\n",
      "    def __init__(self, n_units, n_out):\r\n",
      "        super(MLP, self).__init__()\r\n",
      "        with self.init_scope():\r\n",
      "            # the size of the inputs to each layer will be inferred\r\n",
      "            self.l1 = L.Linear(None, n_units)  # n_in -> n_units\r\n",
      "            self.l2 = L.Linear(None, n_units)  # n_units -> n_units\r\n",
      "            self.l3 = L.Linear(None, n_out)  # n_units -> n_out\r\n",
      "\r\n",
      "    def __call__(self, x):\r\n",
      "        h1 = F.relu(self.l1(x))\r\n",
      "        h2 = F.relu(self.l2(h1))\r\n",
      "        return self.l3(h2)\r\n",
      "\r\n",
      "\r\n",
      "# Function to train MNIST. Required.\r\n",
      "def train(channel_input_dirs, hyperparameters, num_gpus, output_data_dir):\r\n",
      "    # Create MNIST dataset objects from files\r\n",
      "    train_images = np.load(os.path.join(channel_input_dirs['train'], 'train.npz'))['images']\r\n",
      "    train_labels = np.load(os.path.join(channel_input_dirs['train'], 'train.npz'))['labels']\r\n",
      "    test_images = np.load(os.path.join(channel_input_dirs['test'], 'test.npz'))['images']\r\n",
      "    test_labels = np.load(os.path.join(channel_input_dirs['test'], 'test.npz'))['labels']\r\n",
      "    \r\n",
      "    train_dataset = chainer.datasets.TupleDataset(train_images, train_labels)\r\n",
      "    test_dataset = chainer.datasets.TupleDataset(test_images, test_labels)\r\n",
      "\r\n",
      "    # Load all hyperparameters\r\n",
      "    batch_size = hyperparameters.get('batch_size', 64)\r\n",
      "    epochs = hyperparameters.get('epochs', 20)\r\n",
      "    frequency = epochs\r\n",
      "\r\n",
      "    # Create the network\r\n",
      "    model = L.Classifier(MLP(1000, 10))\r\n",
      "\r\n",
      "    # Configure gpu if necessary\r\n",
      "    if num_gpus > 0:\r\n",
      "        chainer.cuda.get_device_from_id(0).use()\r\n",
      "\r\n",
      "    # Setup an optimizer\r\n",
      "    optimizer = chainer.optimizers.Adam()\r\n",
      "    optimizer.setup(model)\r\n",
      "\r\n",
      "    # Load the MNIST dataset\r\n",
      "    train_iter = chainer.iterators.SerialIterator(train_dataset, batch_size)\r\n",
      "    test_iter = chainer.iterators.SerialIterator(test_dataset, batch_size,\r\n",
      "                                                 repeat=False, shuffle=False)\r\n",
      "\r\n",
      "    # Set up a trainer\r\n",
      "    device = 0 if num_gpus > 0 else -1  # -1 indicates CPU, 0 indicates first GPU device.\r\n",
      "    if num_gpus > 0:\r\n",
      "        updater = training.ParallelUpdater(\r\n",
      "            train_iter,\r\n",
      "            optimizer,\r\n",
      "            # The device of the name 'main' is used as a \"master\", while others are\r\n",
      "            # used as slaves. Names other than 'main' are arbitrary.\r\n",
      "            devices={('main' if device == 0 else str(device)): device for device in range(num_gpus)})\r\n",
      "    else:\r\n",
      "        updater = training.StandardUpdater(train_iter, optimizer, device=device)\r\n",
      "\r\n",
      "    # Write output files to output_data_dir. These are zipped and uploaded to S3 output path as output.tar.gz.\r\n",
      "    trainer = training.Trainer(updater, (epochs, 'epoch'), out=output_data_dir)\r\n",
      "\r\n",
      "    # Evaluate the model with the test dataset for each epoch\r\n",
      "    trainer.extend(extensions.Evaluator(test_iter, model, device=device))\r\n",
      "\r\n",
      "    # Dump a computational graph from 'loss' variable at the first iteration\r\n",
      "    # The \"main\" refers to the target link of the \"main\" optimizer.\r\n",
      "    trainer.extend(extensions.dump_graph('main/loss'))\r\n",
      "\r\n",
      "    # Take a snapshot for each specified epoch\r\n",
      "    trainer.extend(extensions.snapshot(), trigger=(frequency, 'epoch'))\r\n",
      "\r\n",
      "    # Write a log of evaluation statistics for each epoch\r\n",
      "    trainer.extend(extensions.LogReport(log_name=None))\r\n",
      "\r\n",
      "    # Save two plot images to the result dir\r\n",
      "    if extensions.PlotReport.available():\r\n",
      "        trainer.extend(\r\n",
      "            extensions.PlotReport(['main/loss', 'validation/main/loss'],\r\n",
      "                                  'epoch', file_name='loss.png'))\r\n",
      "        trainer.extend(\r\n",
      "            extensions.PlotReport(\r\n",
      "                ['main/accuracy', 'validation/main/accuracy'],\r\n",
      "                'epoch', file_name='accuracy.png'))\r\n",
      "\r\n",
      "    # Print selected entries of the log to stdout\r\n",
      "    # Here \"main\" refers to the target link of the \"main\" optimizer again, and\r\n",
      "    # \"validation\" refers to the default name of the Evaluator extension.\r\n",
      "    # Entries other than 'epoch' are reported by the Classifier link, called by\r\n",
      "    # either the updater or the evaluator.\r\n",
      "    trainer.extend(extensions.PrintReport(\r\n",
      "        ['epoch', 'main/loss', 'validation/main/loss',\r\n",
      "         'main/accuracy', 'validation/main/accuracy', 'elapsed_time']))\r\n",
      "\r\n",
      "    # Run the training\r\n",
      "    trainer.run()\r\n",
      "    return model\r\n",
      "\r\n",
      "\r\n",
      "# Function to load model from training. Required.\r\n",
      "def model_fn(model_dir):\r\n",
      "    # This object should be created exactly the same as in training.\r\n",
      "    model = L.Classifier(MLP(1000, 10))\r\n",
      "    serializers.load_npz(os.path.join(model_dir, 'model.npz'), model)\r\n",
      "    return model.predictor\r\n"
     ]
    }
   ],
   "source": [
    "!cat 'chainer_mnist_single_machine.py'"
   ]
  },
  {
   "cell_type": "markdown",
   "metadata": {},
   "source": [
    "## Create SageMaker chainer estimator\n",
    "\n",
    "To train MNIST, let's construct a `sagemaker.chainer.estimator.Chainer` estimator. A quick explanation for some configurable arguments here:\n",
    "\n",
    "`entry_point`: The user script SageMaker runs for training and prediction.\n",
    "\n",
    "`train_instance_count`: The number of SageMaker instances for training. Since we only do single machine training in this tutorial, it should be 1.\n",
    "\n",
    "`train_instance_type`: The type of SageMaker instances for training. We pass the string `local` or `local_gpu` here to enable the local mode for training in the local environment. `local` is for cpu training and `local_gpu` is for gpu training. If you want to train on a remote instance, specify a SageMaker ML instance type here accordingly. See [Amazon SageMaker ML Instance Types](https://aws.amazon.com/sagemaker/pricing/instance-types/)\n",
    "\n",
    "`hyperparameters`: The hyper-parameters defined in the user script. In this tutorial, `epochs`, `batch_size` and `frequency` can be configured and passed."
   ]
  },
  {
   "cell_type": "code",
   "execution_count": 6,
   "metadata": {},
   "outputs": [
    {
     "name": "stdout",
     "output_type": "stream",
     "text": [
      "Instance type = local\n"
     ]
    }
   ],
   "source": [
    "import subprocess\n",
    "\n",
    "from sagemaker.chainer.estimator import Chainer\n",
    "\n",
    "instance_type = 'local'\n",
    "\n",
    "if subprocess.call('nvidia-smi') == 0:\n",
    "    ## Set type to GPU if one is present\n",
    "    instance_type = 'local_gpu'\n",
    "    \n",
    "print(\"Instance type = \" + instance_type)\n",
    "\n",
    "chainer_estimator = Chainer(entry_point='chainer_mnist_single_machine.py', role=role,\n",
    "                            train_instance_count=1, train_instance_type=instance_type,\n",
    "                            hyperparameters={'epochs': 16, 'batch_size': 128})"
   ]
  },
  {
   "cell_type": "markdown",
   "metadata": {},
   "source": [
    "## Train on MNIST data in S3\n",
    "\n",
    "After we've constructed our Chainer object, we can fit it using the MNIST data we uploaded to S3. SageMaker makes sure our data is available in the local filesystem, so our user script can simply read the data from disk."
   ]
  },
  {
   "cell_type": "code",
   "execution_count": 7,
   "metadata": {},
   "outputs": [
    {
     "name": "stderr",
     "output_type": "stream",
     "text": [
      "INFO:sagemaker:Creating training-job with name: sagemaker-chainer-2018-05-18-19-20-19-490\n"
     ]
    },
    {
     "name": "stdout",
     "output_type": "stream",
     "text": [
      "Attaching to tmp_b4m6t_f_algo-1-5NVV4_1\n",
      "\u001b[36malgo-1-5NVV4_1  |\u001b[0m 2018-05-18 19:20:28,055 INFO - root - running container entrypoint\n",
      "\u001b[36malgo-1-5NVV4_1  |\u001b[0m 2018-05-18 19:20:28,057 INFO - root - starting train task\n",
      "\u001b[36malgo-1-5NVV4_1  |\u001b[0m 2018-05-18 19:20:28,059 INFO - container_support.app - started training: {'train_fn': <function train at 0x7f57f6760d08>}\n",
      "\u001b[36malgo-1-5NVV4_1  |\u001b[0m Downloading s3://sagemaker-us-west-2-142577830533/sagemaker-chainer-2018-05-18-19-20-19-490/source/sourcedir.tar.gz to /tmp/script.tar.gz\n",
      "\u001b[36malgo-1-5NVV4_1  |\u001b[0m 2018-05-18 19:20:28,077 INFO - botocore.vendored.requests.packages.urllib3.connectionpool - Starting new HTTP connection (1): 169.254.169.254\n",
      "\u001b[36malgo-1-5NVV4_1  |\u001b[0m 2018-05-18 19:20:28,083 INFO - botocore.vendored.requests.packages.urllib3.connectionpool - Starting new HTTP connection (1): 169.254.169.254\n",
      "\u001b[36malgo-1-5NVV4_1  |\u001b[0m 2018-05-18 19:20:28,125 INFO - botocore.vendored.requests.packages.urllib3.connectionpool - Starting new HTTPS connection (1): sagemaker-us-west-2-142577830533.s3.amazonaws.com\n",
      "\u001b[36malgo-1-5NVV4_1  |\u001b[0m 2018-05-18 19:20:28,158 INFO - botocore.vendored.requests.packages.urllib3.connectionpool - Starting new HTTPS connection (2): sagemaker-us-west-2-142577830533.s3.amazonaws.com\n",
      "\u001b[36malgo-1-5NVV4_1  |\u001b[0m 2018-05-18 19:20:28,173 INFO - botocore.vendored.requests.packages.urllib3.connectionpool - Starting new HTTPS connection (1): sagemaker-us-west-2-142577830533.s3.us-west-2.amazonaws.com\n",
      "\u001b[36malgo-1-5NVV4_1  |\u001b[0m 2018-05-18 19:20:28,202 INFO - botocore.vendored.requests.packages.urllib3.connectionpool - Starting new HTTPS connection (2): sagemaker-us-west-2-142577830533.s3.us-west-2.amazonaws.com\n",
      "\u001b[36malgo-1-5NVV4_1  |\u001b[0m 2018-05-18 19:20:28,267 INFO - chainer_framework.training - Invoking user training script.\n",
      "\u001b[36malgo-1-5NVV4_1  |\u001b[0m 2018-05-18 19:20:28,879 INFO - matplotlib.font_manager - font search path ['/usr/local/lib/python3.5/dist-packages/matplotlib/mpl-data/fonts/ttf', '/usr/local/lib/python3.5/dist-packages/matplotlib/mpl-data/fonts/afm', '/usr/local/lib/python3.5/dist-packages/matplotlib/mpl-data/fonts/pdfcorefonts']\n",
      "\u001b[36malgo-1-5NVV4_1  |\u001b[0m 2018-05-18 19:20:29,132 INFO - matplotlib.font_manager - generated new fontManager\n",
      "\u001b[36malgo-1-5NVV4_1  |\u001b[0m epoch       main/loss   validation/main/loss  main/accuracy  validation/main/accuracy  elapsed_time\n",
      "\u001b[36malgo-1-5NVV4_1  |\u001b[0m \u001b[J1           0.195663    0.0954346             0.941564       0.968058                  19.6128       \n",
      "\u001b[36malgo-1-5NVV4_1  |\u001b[0m \u001b[J2           0.0733352   0.0752655             0.977579       0.975277                  38.7664       \n",
      "\u001b[36malgo-1-5NVV4_1  |\u001b[0m \u001b[J3           0.0474271   0.0678537             0.984475       0.977947                  56.8768       \n",
      "\u001b[36malgo-1-5NVV4_1  |\u001b[0m \u001b[J4           0.0347943   0.0653192             0.989166       0.982002                  77.228        \n",
      "\u001b[36malgo-1-5NVV4_1  |\u001b[0m \u001b[J5           0.0256701   0.0750693             0.991954       0.979628                  95.2806       \n",
      "\u001b[36malgo-1-5NVV4_1  |\u001b[0m \u001b[J6           0.0220464   0.0679131             0.992671       0.981309                  113.558       \n",
      "\u001b[36malgo-1-5NVV4_1  |\u001b[0m \u001b[J7           0.0198493   0.0737206             0.993703       0.983089                  131.895       \n",
      "\u001b[36malgo-1-5NVV4_1  |\u001b[0m \u001b[J8           0.0180447   0.1135                0.99389        0.97409                   151.196       \n",
      "\u001b[36malgo-1-5NVV4_1  |\u001b[0m \u001b[J9           0.0154509   0.0814827             0.994736       0.980123                  169.868       \n",
      "\u001b[36malgo-1-5NVV4_1  |\u001b[0m \u001b[J10          0.0149009   0.0838896             0.994886       0.981705                  188.739       \n",
      "\u001b[36malgo-1-5NVV4_1  |\u001b[0m \u001b[J11          0.00972011  0.107538              0.996802       0.97765                   207.939       \n",
      "\u001b[36malgo-1-5NVV4_1  |\u001b[0m \u001b[J12          0.012054    0.0931796             0.996177       0.979727                  227.33        \n",
      "\u001b[36malgo-1-5NVV4_1  |\u001b[0m \u001b[J13          0.00976093  0.078277              0.997301       0.984078                  247.027       \n",
      "\u001b[36malgo-1-5NVV4_1  |\u001b[0m \u001b[J14          0.0147135   0.0801                0.995452       0.982496                  266.868       \n",
      "\u001b[36malgo-1-5NVV4_1  |\u001b[0m \u001b[J15          0.00793677  0.0919659             0.997718       0.983188                  287.102       \n",
      "\u001b[36malgo-1-5NVV4_1  |\u001b[0m \u001b[J16          0.0138489   0.0867559             0.99566        0.981507                  307.389       \n"
     ]
    },
    {
     "name": "stderr",
     "output_type": "stream",
     "text": [
      "WARNING:sagemaker.local.image:Failed to delete: /tmp/tmp_b4m6t_f/algo-1-5NVV4 Please remove it manually.\n"
     ]
    },
    {
     "name": "stdout",
     "output_type": "stream",
     "text": [
      "\u001b[36mtmp_b4m6t_f_algo-1-5NVV4_1 exited with code 0\n",
      "\u001b[0mAborting on container exit...\n",
      "===== Job Complete =====\n"
     ]
    }
   ],
   "source": [
    "chainer_estimator.fit({'train': train_input, 'test': test_input})"
   ]
  },
  {
   "cell_type": "markdown",
   "metadata": {},
   "source": [
    "Our user script writes various artifacts, such as plots, to a directory `output_data_dir`, the contents of which SageMaker uploads to S3. Now we download and extract these artifacts."
   ]
  },
  {
   "cell_type": "code",
   "execution_count": 8,
   "metadata": {},
   "outputs": [],
   "source": [
    "try:\n",
    "    os.makedirs('output/single_machine_mnist')\n",
    "except OSError:\n",
    "    print('Directory already exist!')\n",
    "\n",
    "chainer_training_job = chainer_estimator.latest_training_job.name\n",
    "\n",
    "desc = chainer_estimator.sagemaker_session.sagemaker_client.describe_training_job(TrainingJobName=chainer_training_job)\n",
    "output_data = desc['ModelArtifacts']['S3ModelArtifacts'].replace('model', 'output')\n",
    "status = os.system('cp {}/data/*.png output/single_machine_mnist'.format(output_data))"
   ]
  },
  {
   "cell_type": "markdown",
   "metadata": {},
   "source": [
    "These plots show the accuracy and loss over epochs:"
   ]
  },
  {
   "cell_type": "code",
   "execution_count": 9,
   "metadata": {},
   "outputs": [
    {
     "data": {
      "image/png": "[encoded data removed]",
      "text/plain": [
       "<IPython.core.display.Image object>"
      ]
     },
     "metadata": {
      "image/png": {
       "height": 800,
       "width": 800
      }
     },
     "output_type": "display_data"
    },
    {
     "data": {
      "image/png": "[encoded data removed]",
      "text/plain": [
       "<IPython.core.display.Image object>"
      ]
     },
     "metadata": {
      "image/png": {
       "height": 800,
       "width": 800
      }
     },
     "output_type": "display_data"
    }
   ],
   "source": [
    "from IPython.display import Image\n",
    "from IPython.display import display\n",
    "\n",
    "accuracy_graph = Image(filename = \"output/single_machine_mnist/accuracy.png\", width=800, height=800)\n",
    "loss_graph = Image(filename = \"output/single_machine_mnist/loss.png\", width=800, height=800)\n",
    "\n",
    "display(accuracy_graph, loss_graph)"
   ]
  },
  {
   "cell_type": "markdown",
   "metadata": {},
   "source": [
    "## Deploy model to endpoint\n",
    "\n",
    "After training, we deploy the model to an endpoint using the Chainer estimator object. Here we also specify instance_type to be `local` or `local_gpu` to deploy the model to the local environment. If you want to deploy the model to a remote instance, specify a SageMaker ML instance type here accordingly. But note that if you train in local mode, you have to deploy in local mode as well. For now SageMaker does not support training in local mode and deploying to remote instance."
   ]
  },
  {
   "cell_type": "code",
   "execution_count": 10,
   "metadata": {},
   "outputs": [
    {
     "name": "stderr",
     "output_type": "stream",
     "text": [
      "INFO:sagemaker:Creating model with name: sagemaker-chainer-2018-05-18-19-20-19-490\n",
      "INFO:sagemaker:Creating endpoint with name sagemaker-chainer-2018-05-18-19-20-19-490\n"
     ]
    },
    {
     "name": "stdout",
     "output_type": "stream",
     "text": [
      "!"
     ]
    }
   ],
   "source": [
    "predictor = chainer_estimator.deploy(initial_instance_count=1, instance_type=instance_type)"
   ]
  },
  {
   "cell_type": "markdown",
   "metadata": {},
   "source": [
    "## Predict Hand-Written Digit\n",
    "\n",
    "We can now use this predictor to classify hand-written digits. Let's get some random test images in MNIST first."
   ]
  },
  {
   "cell_type": "code",
   "execution_count": 33,
   "metadata": {},
   "outputs": [
    {
     "data": {
      "image/png": "[encoded data removed]",
      "text/plain": [
       "<matplotlib.figure.Figure at 0x7f524ae31be0>"
      ]
     },
     "metadata": {},
     "output_type": "display_data"
    }
   ],
   "source": [
    "import random\n",
    "\n",
    "import matplotlib.pyplot as plt\n",
    "\n",
    "num_samples = 5\n",
    "indices = random.sample(range(test_images.shape[0] - 1), num_samples)\n",
    "images, labels = test_images[indices], test_labels[indices]\n",
    "\n",
    "for i in range(num_samples):\n",
    "    plt.subplot(1,num_samples,i+1)\n",
    "    plt.imshow(images[i].reshape(28, 28), cmap='gray')\n",
    "    plt.title(labels[i])\n",
    "    plt.axis('off')"
   ]
  },
  {
   "cell_type": "markdown",
   "metadata": {},
   "source": [
    "Now let's see if we can make correct predictions."
   ]
  },
  {
   "cell_type": "code",
   "execution_count": 34,
   "metadata": {},
   "outputs": [
    {
     "name": "stdout",
     "output_type": "stream",
     "text": [
      "The predicted labels are: [9 4 0 6 4]\n"
     ]
    }
   ],
   "source": [
    "prediction = predictor.predict(images)\n",
    "predicted_label = prediction.argmax(axis=1)\n",
    "print('The predicted labels are: {}'.format(predicted_label))"
   ]
  },
  {
   "cell_type": "markdown",
   "metadata": {},
   "source": [
    "Now let's get some test data from you! Drawing into the image box loads the pixel data into a variable named 'data' in this notebook, which we can then pass to the Chainer predictor."
   ]
  },
  {
   "cell_type": "code",
   "execution_count": 17,
   "metadata": {},
   "outputs": [
    {
     "data": {
      "text/html": [
       "<script type=\"text/Javascript\">\n",
       "    var pixels = [];\n",
       "    for (var i = 0; i < 28*28; i++) pixels[i] = 0;\n",
       "    var click = 0;\n",
       "\n",
       "    var canvas = document.querySelector(\"canvas\");\n",
       "    canvas.addEventListener(\"mousemove\", function(e){\n",
       "        if (e.buttons == 1) {\n",
       "            click = 1;\n",
       "            canvas.getContext(\"2d\").fillStyle = \"rgb(0,0,0)\";\n",
       "            canvas.getContext(\"2d\").fillRect(e.offsetX, e.offsetY, 8, 8);\n",
       "            x = Math.floor(e.offsetY * 0.2);\n",
       "            y = Math.floor(e.offsetX * 0.2) + 1;\n",
       "            for (var dy = 0; dy < 2; dy++){\n",
       "                for (var dx = 0; dx < 2; dx++){\n",
       "                    if ((x + dx < 28) && (y + dy < 28)){\n",
       "                        pixels[(y+dy)+(x+dx)*28] = 1;\n",
       "                    }\n",
       "                }\n",
       "            }\n",
       "        } else {\n",
       "            if (click == 1) set_value();\n",
       "            click = 0;\n",
       "        }\n",
       "    });\n",
       "    function clear_value(){\n",
       "        canvas.getContext(\"2d\").fillStyle = \"rgb(255,255,255)\";\n",
       "        canvas.getContext(\"2d\").fillRect(0, 0, 140, 140);\n",
       "        for (var i = 0; i < 28*28; i++) pixels[i] = 0;\n",
       "    }\n",
       "    \n",
       "    function set_value(){\n",
       "        var result = \"[[\"\n",
       "        for (var i = 0; i < 28; i++) {\n",
       "            for (var j = 0; j < 28; j++) {\n",
       "                result += pixels [i * 28 + j]\n",
       "                if (j < 27) {\n",
       "                    result += \", \"\n",
       "                }\n",
       "            }\n",
       "            if (i < 27) {\n",
       "                result += \", \"\n",
       "            }\n",
       "        }\n",
       "        result += \"]]\"\n",
       "        var kernel = IPython.notebook.kernel;\n",
       "        kernel.execute(\"data = \" + result)\n",
       "    }\n",
       "</script>\n",
       "<table>\n",
       "<td style=\"border-style: none;\">\n",
       "<div style=\"border: solid 2px #666; width: 143px; height: 144px;\">\n",
       "<canvas width=\"140\" height=\"140\"></canvas>\n",
       "</div></td>\n",
       "<td style=\"border-style: none;\">\n",
       "<button onclick=\"clear_value()\">Clear</button>\n",
       "</td>\n",
       "</table>\n",
       "\n",
       "<!-- This work has been modified from the original and is licensed under the Apache 2.0 License. -->\n",
       "\n",
       "<!--\n",
       "                                     Apache License\n",
       "                           Version 2.0, January 2004\n",
       "                        http://www.apache.org/licenses/\n",
       "\n",
       "   TERMS AND CONDITIONS FOR USE, REPRODUCTION, AND DISTRIBUTION\n",
       "\n",
       "   1. Definitions.\n",
       "\n",
       "      \"License\" shall mean the terms and conditions for use, reproduction,\n",
       "      and distribution as defined by Sections 1 through 9 of this document.\n",
       "\n",
       "      \"Licensor\" shall mean the copyright owner or entity authorized by\n",
       "      the copyright owner that is granting the License.\n",
       "\n",
       "      \"Legal Entity\" shall mean the union of the acting entity and all\n",
       "      other entities that control, are controlled by, or are under common\n",
       "      control with that entity. For the purposes of this definition,\n",
       "      \"control\" means (i) the power, direct or indirect, to cause the\n",
       "      direction or management of such entity, whether by contract or\n",
       "      otherwise, or (ii) ownership of fifty percent (50%) or more of the\n",
       "      outstanding shares, or (iii) beneficial ownership of such entity.\n",
       "\n",
       "      \"You\" (or \"Your\") shall mean an individual or Legal Entity\n",
       "      exercising permissions granted by this License.\n",
       "\n",
       "      \"Source\" form shall mean the preferred form for making modifications,\n",
       "      including but not limited to software source code, documentation\n",
       "      source, and configuration files.\n",
       "\n",
       "      \"Object\" form shall mean any form resulting from mechanical\n",
       "      transformation or translation of a Source form, including but\n",
       "      not limited to compiled object code, generated documentation,\n",
       "      and conversions to other media types.\n",
       "\n",
       "      \"Work\" shall mean the work of authorship, whether in Source or\n",
       "      Object form, made available under the License, as indicated by a\n",
       "      copyright notice that is included in or attached to the work\n",
       "      (an example is provided in the Appendix below).\n",
       "\n",
       "      \"Derivative Works\" shall mean any work, whether in Source or Object\n",
       "      form, that is based on (or derived from) the Work and for which the\n",
       "      editorial revisions, annotations, elaborations, or other modifications\n",
       "      represent, as a whole, an original work of authorship. For the purposes\n",
       "      of this License, Derivative Works shall not include works that remain\n",
       "      separable from, or merely link (or bind by name) to the interfaces of,\n",
       "      the Work and Derivative Works thereof.\n",
       "\n",
       "      \"Contribution\" shall mean any work of authorship, including\n",
       "      the original version of the Work and any modifications or additions\n",
       "      to that Work or Derivative Works thereof, that is intentionally\n",
       "      submitted to Licensor for inclusion in the Work by the copyright owner\n",
       "      or by an individual or Legal Entity authorized to submit on behalf of\n",
       "      the copyright owner. For the purposes of this definition, \"submitted\"\n",
       "      means any form of electronic, verbal, or written communication sent\n",
       "      to the Licensor or its representatives, including but not limited to\n",
       "      communication on electronic mailing lists, source code control systems,\n",
       "      and issue tracking systems that are managed by, or on behalf of, the\n",
       "      Licensor for the purpose of discussing and improving the Work, but\n",
       "      excluding communication that is conspicuously marked or otherwise\n",
       "      designated in writing by the copyright owner as \"Not a Contribution.\"\n",
       "\n",
       "      \"Contributor\" shall mean Licensor and any individual or Legal Entity\n",
       "      on behalf of whom a Contribution has been received by Licensor and\n",
       "      subsequently incorporated within the Work.\n",
       "\n",
       "   2. Grant of Copyright License. Subject to the terms and conditions of\n",
       "      this License, each Contributor hereby grants to You a perpetual,\n",
       "      worldwide, non-exclusive, no-charge, royalty-free, irrevocable\n",
       "      copyright license to reproduce, prepare Derivative Works of,\n",
       "      publicly display, publicly perform, sublicense, and distribute the\n",
       "      Work and such Derivative Works in Source or Object form.\n",
       "\n",
       "   3. Grant of Patent License. Subject to the terms and conditions of\n",
       "      this License, each Contributor hereby grants to You a perpetual,\n",
       "      worldwide, non-exclusive, no-charge, royalty-free, irrevocable\n",
       "      (except as stated in this section) patent license to make, have made,\n",
       "      use, offer to sell, sell, import, and otherwise transfer the Work,\n",
       "      where such license applies only to those patent claims licensable\n",
       "      by such Contributor that are necessarily infringed by their\n",
       "      Contribution(s) alone or by combination of their Contribution(s)\n",
       "      with the Work to which such Contribution(s) was submitted. If You\n",
       "      institute patent litigation against any entity (including a\n",
       "      cross-claim or counterclaim in a lawsuit) alleging that the Work\n",
       "      or a Contribution incorporated within the Work constitutes direct\n",
       "      or contributory patent infringement, then any patent licenses\n",
       "      granted to You under this License for that Work shall terminate\n",
       "      as of the date such litigation is filed.\n",
       "\n",
       "   4. Redistribution. You may reproduce and distribute copies of the\n",
       "      Work or Derivative Works thereof in any medium, with or without\n",
       "      modifications, and in Source or Object form, provided that You\n",
       "      meet the following conditions:\n",
       "\n",
       "      (a) You must give any other recipients of the Work or\n",
       "          Derivative Works a copy of this License; and\n",
       "\n",
       "      (b) You must cause any modified files to carry prominent notices\n",
       "          stating that You changed the files; and\n",
       "\n",
       "      (c) You must retain, in the Source form of any Derivative Works\n",
       "          that You distribute, all copyright, patent, trademark, and\n",
       "          attribution notices from the Source form of the Work,\n",
       "          excluding those notices that do not pertain to any part of\n",
       "          the Derivative Works; and\n",
       "\n",
       "      (d) If the Work includes a \"NOTICE\" text file as part of its\n",
       "          distribution, then any Derivative Works that You distribute must\n",
       "          include a readable copy of the attribution notices contained\n",
       "          within such NOTICE file, excluding those notices that do not\n",
       "          pertain to any part of the Derivative Works, in at least one\n",
       "          of the following places: within a NOTICE text file distributed\n",
       "          as part of the Derivative Works; within the Source form or\n",
       "          documentation, if provided along with the Derivative Works; or,\n",
       "          within a display generated by the Derivative Works, if and\n",
       "          wherever such third-party notices normally appear. The contents\n",
       "          of the NOTICE file are for informational purposes only and\n",
       "          do not modify the License. You may add Your own attribution\n",
       "          notices within Derivative Works that You distribute, alongside\n",
       "          or as an addendum to the NOTICE text from the Work, provided\n",
       "          that such additional attribution notices cannot be construed\n",
       "          as modifying the License.\n",
       "\n",
       "      You may add Your own copyright statement to Your modifications and\n",
       "      may provide additional or different license terms and conditions\n",
       "      for use, reproduction, or distribution of Your modifications, or\n",
       "      for any such Derivative Works as a whole, provided Your use,\n",
       "      reproduction, and distribution of the Work otherwise complies with\n",
       "      the conditions stated in this License.\n",
       "\n",
       "   5. Submission of Contributions. Unless You explicitly state otherwise,\n",
       "      any Contribution intentionally submitted for inclusion in the Work\n",
       "      by You to the Licensor shall be under the terms and conditions of\n",
       "      this License, without any additional terms or conditions.\n",
       "      Notwithstanding the above, nothing herein shall supersede or modify\n",
       "      the terms of any separate license agreement you may have executed\n",
       "      with Licensor regarding such Contributions.\n",
       "\n",
       "   6. Trademarks. This License does not grant permission to use the trade\n",
       "      names, trademarks, service marks, or product names of the Licensor,\n",
       "      except as required for reasonable and customary use in describing the\n",
       "      origin of the Work and reproducing the content of the NOTICE file.\n",
       "\n",
       "   7. Disclaimer of Warranty. Unless required by applicable law or\n",
       "      agreed to in writing, Licensor provides the Work (and each\n",
       "      Contributor provides its Contributions) on an \"AS IS\" BASIS,\n",
       "      WITHOUT WARRANTIES OR CONDITIONS OF ANY KIND, either express or\n",
       "      implied, including, without limitation, any warranties or conditions\n",
       "      of TITLE, NON-INFRINGEMENT, MERCHANTABILITY, or FITNESS FOR A\n",
       "      PARTICULAR PURPOSE. You are solely responsible for determining the\n",
       "      appropriateness of using or redistributing the Work and assume any\n",
       "      risks associated with Your exercise of permissions under this License.\n",
       "\n",
       "   8. Limitation of Liability. In no event and under no legal theory,\n",
       "      whether in tort (including negligence), contract, or otherwise,\n",
       "      unless required by applicable law (such as deliberate and grossly\n",
       "      negligent acts) or agreed to in writing, shall any Contributor be\n",
       "      liable to You for damages, including any direct, indirect, special,\n",
       "      incidental, or consequential damages of any character arising as a\n",
       "      result of this License or out of the use or inability to use the\n",
       "      Work (including but not limited to damages for loss of goodwill,\n",
       "      work stoppage, computer failure or malfunction, or any and all\n",
       "      other commercial damages or losses), even if such Contributor\n",
       "      has been advised of the possibility of such damages.\n",
       "\n",
       "   9. Accepting Warranty or Additional Liability. While redistributing\n",
       "      the Work or Derivative Works thereof, You may choose to offer,\n",
       "      and charge a fee for, acceptance of support, warranty, indemnity,\n",
       "      or other liability obligations and/or rights consistent with this\n",
       "      License. However, in accepting such obligations, You may act only\n",
       "      on Your own behalf and on Your sole responsibility, not on behalf\n",
       "      of any other Contributor, and only if You agree to indemnify,\n",
       "      defend, and hold each Contributor harmless for any liability\n",
       "      incurred by, or claims asserted against, such Contributor by reason\n",
       "      of your accepting any such warranty or additional liability.\n",
       "\n",
       "   END OF TERMS AND CONDITIONS\n",
       "\n",
       "   APPENDIX: How to apply the Apache License to your work.\n",
       "\n",
       "      To apply the Apache License to your work, attach the following\n",
       "      boilerplate notice, with the fields enclosed by brackets \"{}\"\n",
       "      replaced with your own identifying information. (Don't include\n",
       "      the brackets!)  The text should be enclosed in the appropriate\n",
       "      comment syntax for the file format. We also recommend that a\n",
       "      file or class name and description of purpose be included on the\n",
       "      same \"printed page\" as the copyright notice for easier\n",
       "      identification within third-party archives.\n",
       "\n",
       "   Copyright {yyyy} {name of copyright owner}\n",
       "\n",
       "   Licensed under the Apache License, Version 2.0 (the \"License\");\n",
       "   you may not use this file except in compliance with the License.\n",
       "   You may obtain a copy of the License at\n",
       "\n",
       "       http://www.apache.org/licenses/LICENSE-2.0\n",
       "\n",
       "   Unless required by applicable law or agreed to in writing, software\n",
       "   distributed under the License is distributed on an \"AS IS\" BASIS,\n",
       "   WITHOUT WARRANTIES OR CONDITIONS OF ANY KIND, either express or implied.\n",
       "   See the License for the specific language governing permissions and\n",
       "   limitations under the License.\n",
       "-->\n",
       "\n",
       "\n",
       "\n"
      ],
      "text/plain": [
       "<IPython.core.display.HTML object>"
      ]
     },
     "execution_count": 17,
     "metadata": {},
     "output_type": "execute_result"
    }
   ],
   "source": [
    "from IPython.display import HTML\n",
    "HTML(open(\"input.html\").read())"
   ]
  },
  {
   "cell_type": "markdown",
   "metadata": {},
   "source": [
    "Now let's see if your writing can be recognized!"
   ]
  },
  {
   "cell_type": "code",
   "execution_count": 28,
   "metadata": {},
   "outputs": [
    {
     "name": "stdout",
     "output_type": "stream",
     "text": [
      "What you wrote is: 7\n"
     ]
    }
   ],
   "source": [
    "image = np.array(data, dtype=np.float32)\n",
    "prediction = predictor.predict(image)\n",
    "predicted_label = prediction.argmax(axis=1)[0]\n",
    "print('What you wrote is: {}'.format(predicted_label))"
   ]
  },
  {
   "cell_type": "markdown",
   "metadata": {},
   "source": [
    "## Clean resources\n",
    "\n",
    "After you have finished with this example, remember to delete the prediction endpoint to release the instance associated with it and remove the outputs saved locally."
   ]
  },
  {
   "cell_type": "code",
   "execution_count": 35,
   "metadata": {},
   "outputs": [
    {
     "name": "stderr",
     "output_type": "stream",
     "text": [
      "INFO:sagemaker:Deleting endpoint with name: sagemaker-chainer-2018-05-18-19-20-19-490\n"
     ]
    }
   ],
   "source": [
    "chainer_estimator.delete_endpoint()\n",
    "shutil.rmtree('output')"
   ]
  }
 ],
 "metadata": {
  "kernelspec": {
   "display_name": "conda_chainer_p36",
   "language": "python",
   "name": "conda_chainer_p36"
  },
  "language_info": {
   "codemirror_mode": {
    "name": "ipython",
    "version": 3
   },
   "file_extension": ".py",
   "mimetype": "text/x-python",
   "name": "python",
   "nbconvert_exporter": "python",
   "pygments_lexer": "ipython3",
   "version": "3.6.4"
  }
 },
 "nbformat": 4,
 "nbformat_minor": 2
}
